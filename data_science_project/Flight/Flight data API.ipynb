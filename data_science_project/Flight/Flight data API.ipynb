{
 "cells": [
  {
   "cell_type": "code",
   "execution_count": 1,
   "id": "6afb9574-a396-4c26-a431-c1dceb9499b4",
   "metadata": {},
   "outputs": [],
   "source": [
    "import requests # library for making HTTP requests\n",
    "import pandas as pd # library for data analysis\n",
    "import datetime as dt # library for handling date and time objects"
   ]
  },
  {
   "cell_type": "code",
   "execution_count": 5,
   "id": "c74f6214-ca98-4d71-aeb6-e638b1591f42",
   "metadata": {},
   "outputs": [],
   "source": [
    "my_dict = {}\n",
    "\n",
    "with open(r\"/Users/christianhellum/Cand. Merc./Data-Science-Project/data_science_project/.env_API\", \"r\") as f:\n",
    "    for line in f:\n",
    "        key, val = line.split('=')\n",
    "        my_dict[key.strip()] = val.strip()"
   ]
  },
  {
   "cell_type": "code",
   "execution_count": 8,
   "id": "a88c0654-259c-483f-aaee-1c98f688ae64",
   "metadata": {},
   "outputs": [
    {
     "name": "stdout",
     "output_type": "stream",
     "text": [
      "{'X-Access-Token': 'c33be7fb8b49d500e631d7143c8ef4bf', 'X-RapidAPI-Key': 'c795ba9581msh07d0178516af21bp1d788bjsnd4de235dbca6', 'X-RapidAPI-Host': 'travelpayouts-travelpayouts-flight-data-v1.p.rapidapi.com'}\n"
     ]
    }
   ],
   "source": [
    "headers = my_dict\n",
    "print(headers)"
   ]
  },
  {
   "cell_type": "code",
   "execution_count": 57,
   "id": "1209eec0-0f31-4277-9f2f-2856b5da1d7c",
   "metadata": {
    "scrolled": true
   },
   "outputs": [
    {
     "name": "stdout",
     "output_type": "stream",
     "text": [
      "{'currency': 'eur', 'error': '', 'data': [{'depart_date': '2025-04-01', 'origin': 'BLL', 'destination': 'ROM', 'gate': '', 'return_date': '2025-04-14', 'found_at': '2024-05-05T19:29:13', 'trip_class': 0, 'value': 237, 'number_of_changes': 1, 'duration': 1895, 'distance': 1567, 'show_to_affiliates': True, 'actual': True}, {'depart_date': '2024-05-25', 'origin': 'BLL', 'destination': 'ROM', 'gate': '', 'return_date': '2024-05-28', 'found_at': '2024-05-04T06:42:50', 'trip_class': 0, 'value': 240, 'number_of_changes': 1, 'duration': 2820, 'distance': 1567, 'show_to_affiliates': True, 'actual': True}, {'depart_date': '2024-12-29', 'origin': 'BLL', 'destination': 'ROM', 'gate': '', 'return_date': '2025-01-06', 'found_at': '2024-05-05T18:08:30', 'trip_class': 0, 'value': 248, 'number_of_changes': 1, 'duration': 2205, 'distance': 1567, 'show_to_affiliates': True, 'actual': True}], 'success': True}\n"
     ]
    }
   ],
   "source": [
    "url = \"https://travelpayouts-travelpayouts-flight-data-v1.p.rapidapi.com/v2/prices/latest\"\n",
    "\n",
    "querystring = {\"destination\":\"FCO\",\"origin\":\"BLL\",\"period_type\":\"year\",\"one_way\":\" back-to-back\",\"trip_class\":\"0\",\"currency\":\"EUR\",\"page\":\"1\",\"sorting\":\"price\",\"limit\":\"3\"}\n",
    "\n",
    "r = requests.get(url, headers=headers, params=querystring) # Issues a HTTP GET request\n",
    "r.url # `requests` help us encode the URL in the correct format\n",
    "\n",
    "print(r.json())"
   ]
  },
  {
   "cell_type": "code",
   "execution_count": 58,
   "id": "1d941721-49ac-456b-a738-a06402e7727a",
   "metadata": {},
   "outputs": [
    {
     "data": {
      "text/plain": [
       "200"
      ]
     },
     "execution_count": 58,
     "metadata": {},
     "output_type": "execute_result"
    }
   ],
   "source": [
    "r.status_code # 200 means success"
   ]
  },
  {
   "cell_type": "code",
   "execution_count": 59,
   "id": "7d5d6e42-71ad-44a7-9312-c557be88f2e8",
   "metadata": {
    "scrolled": true
   },
   "outputs": [
    {
     "data": {
      "text/plain": [
       "{'currency': 'eur',\n",
       " 'error': '',\n",
       " 'data': [{'depart_date': '2025-04-01',\n",
       "   'origin': 'BLL',\n",
       "   'destination': 'ROM',\n",
       "   'gate': '',\n",
       "   'return_date': '2025-04-14',\n",
       "   'found_at': '2024-05-05T19:29:13',\n",
       "   'trip_class': 0,\n",
       "   'value': 237,\n",
       "   'number_of_changes': 1,\n",
       "   'duration': 1895,\n",
       "   'distance': 1567,\n",
       "   'show_to_affiliates': True,\n",
       "   'actual': True},\n",
       "  {'depart_date': '2024-05-25',\n",
       "   'origin': 'BLL',\n",
       "   'destination': 'ROM',\n",
       "   'gate': '',\n",
       "   'return_date': '2024-05-28',\n",
       "   'found_at': '2024-05-04T06:42:50',\n",
       "   'trip_class': 0,\n",
       "   'value': 240,\n",
       "   'number_of_changes': 1,\n",
       "   'duration': 2820,\n",
       "   'distance': 1567,\n",
       "   'show_to_affiliates': True,\n",
       "   'actual': True},\n",
       "  {'depart_date': '2024-12-29',\n",
       "   'origin': 'BLL',\n",
       "   'destination': 'ROM',\n",
       "   'gate': '',\n",
       "   'return_date': '2025-01-06',\n",
       "   'found_at': '2024-05-05T18:08:30',\n",
       "   'trip_class': 0,\n",
       "   'value': 248,\n",
       "   'number_of_changes': 1,\n",
       "   'duration': 2205,\n",
       "   'distance': 1567,\n",
       "   'show_to_affiliates': True,\n",
       "   'actual': True}],\n",
       " 'success': True}"
      ]
     },
     "execution_count": 59,
     "metadata": {},
     "output_type": "execute_result"
    }
   ],
   "source": [
    "flight = r.json()\n",
    "flight"
   ]
  },
  {
   "cell_type": "code",
   "execution_count": 60,
   "id": "2dd4bfd8-7842-4050-954b-b3d313af98cb",
   "metadata": {},
   "outputs": [
    {
     "name": "stdout",
     "output_type": "stream",
     "text": [
      "[{'depart_date': '2025-04-01', 'origin': 'BLL', 'destination': 'ROM', 'gate': '', 'return_date': '2025-04-14', 'found_at': '2024-05-05T19:29:13', 'trip_class': 0, 'value': 237, 'number_of_changes': 1, 'duration': 1895, 'distance': 1567, 'show_to_affiliates': True, 'actual': True}, {'depart_date': '2024-05-25', 'origin': 'BLL', 'destination': 'ROM', 'gate': '', 'return_date': '2024-05-28', 'found_at': '2024-05-04T06:42:50', 'trip_class': 0, 'value': 240, 'number_of_changes': 1, 'duration': 2820, 'distance': 1567, 'show_to_affiliates': True, 'actual': True}, {'depart_date': '2024-12-29', 'origin': 'BLL', 'destination': 'ROM', 'gate': '', 'return_date': '2025-01-06', 'found_at': '2024-05-05T18:08:30', 'trip_class': 0, 'value': 248, 'number_of_changes': 1, 'duration': 2205, 'distance': 1567, 'show_to_affiliates': True, 'actual': True}]\n"
     ]
    }
   ],
   "source": [
    "flight_labels = flight['data']\n",
    "print(flight_labels)"
   ]
  },
  {
   "cell_type": "code",
   "execution_count": 61,
   "id": "acfdb136-6cf9-4c6d-a99a-4319d2048f86",
   "metadata": {
    "scrolled": true
   },
   "outputs": [
    {
     "name": "stdout",
     "output_type": "stream",
     "text": [
      "depart_date 2025-04-01\n",
      "origin BLL\n",
      "destination ROM\n",
      "gate \n",
      "return_date 2025-04-14\n",
      "found_at 2024-05-05T19:29:13\n",
      "trip_class 0\n",
      "value 237\n",
      "number_of_changes 1\n",
      "duration 1895\n",
      "distance 1567\n",
      "show_to_affiliates True\n",
      "actual True\n",
      "depart_date 2024-05-25\n",
      "origin BLL\n",
      "destination ROM\n",
      "gate \n",
      "return_date 2024-05-28\n",
      "found_at 2024-05-04T06:42:50\n",
      "trip_class 0\n",
      "value 240\n",
      "number_of_changes 1\n",
      "duration 2820\n",
      "distance 1567\n",
      "show_to_affiliates True\n",
      "actual True\n",
      "depart_date 2024-12-29\n",
      "origin BLL\n",
      "destination ROM\n",
      "gate \n",
      "return_date 2025-01-06\n",
      "found_at 2024-05-05T18:08:30\n",
      "trip_class 0\n",
      "value 248\n",
      "number_of_changes 1\n",
      "duration 2205\n",
      "distance 1567\n",
      "show_to_affiliates True\n",
      "actual True\n"
     ]
    }
   ],
   "source": [
    "for labels in flight_labels:\n",
    "    for key, value in labels.items():\n",
    "        print(key,value)"
   ]
  },
  {
   "cell_type": "code",
   "execution_count": 63,
   "id": "764a0bb4-5019-4fa7-a12b-829964da8231",
   "metadata": {},
   "outputs": [],
   "source": [
    "lst = []\n",
    "for values in flight_labels:\n",
    "    lst.append(pd.DataFrame.from_dict(values, orient='index').transpose())"
   ]
  },
  {
   "cell_type": "code",
   "execution_count": 64,
   "id": "583a6a35-4c23-44f0-a538-1e28a240c3fe",
   "metadata": {},
   "outputs": [],
   "source": [
    "df = pd.concat(lst).reset_index()\n",
    "df"
   ]
  },
  {
   "cell_type": "code",
   "execution_count": 31,
   "id": "2b7bd6cf-1e59-41c4-89f2-c892c1505a3a",
   "metadata": {},
   "outputs": [],
   "source": [
    "def extract_flight_data(origin, destination, period_type='year', one_way='true', trip_class='0', currency='EUR', limit=400):\n",
    "    url = \"https://travelpayouts-travelpayouts-flight-data-v1.p.rapidapi.com/v2/prices/latest\"\n",
    "    querystring = {\n",
    "        \"destination\": destination,\n",
    "        \"origin\": origin,\n",
    "        \"period_type\": period_type,\n",
    "        \"one_way\": one_way,\n",
    "        \"trip_class\": trip_class,\n",
    "        \"currency\": currency,\n",
    "        \"limit\": limit\n",
    "    }\n",
    "\n",
    "    try:\n",
    "        response = requests.get(url, headers=headers, params=querystring)\n",
    "        response.raise_for_status()  # Raise an exception for bad response status\n",
    "        flight_data = response.json()  # Convert JSON response to Python dictionary\n",
    "        # Convert the flight data to DataFrame\n",
    "        df = pd.DataFrame(flight_data['data'])\n",
    "        return df\n",
    "    except requests.exceptions.RequestException as e:\n",
    "        print(\"Error fetching data:\", e)\n",
    "        return None"
   ]
  },
  {
   "cell_type": "code",
   "execution_count": 32,
   "id": "af970320-0875-4d97-b364-349716152bc3",
   "metadata": {},
   "outputs": [
    {
     "name": "stdout",
     "output_type": "stream",
     "text": [
      "Empty DataFrame\n",
      "Columns: []\n",
      "Index: []\n"
     ]
    }
   ],
   "source": [
    "# Example usage:\n",
    "flight_df = extract_flight_data(origin=\"BLL\", destination=\"CEQ\")\n",
    "print(flight_df.head())  # Display first few rows of the DataFrame"
   ]
  },
  {
   "cell_type": "code",
   "execution_count": 23,
   "id": "fcce99b3-6a36-4f19-a9ba-80379da1f36c",
   "metadata": {},
   "outputs": [],
   "source": [
    "# Assuming your DataFrame is named flight_data\n",
    "# Replace 'flight_data.csv' with the desired file name\n",
    "flight_df.to_csv('flight_data_BLL_MLA.csv', index=False)"
   ]
  },
  {
   "cell_type": "code",
   "execution_count": null,
   "id": "6815bb2d-08cb-48bc-9bdc-3c9e883e971f",
   "metadata": {},
   "outputs": [],
   "source": []
  }
 ],
 "metadata": {
  "kernelspec": {
   "display_name": "Python 3 (ipykernel)",
   "language": "python",
   "name": "python3"
  },
  "language_info": {
   "codemirror_mode": {
    "name": "ipython",
    "version": 3
   },
   "file_extension": ".py",
   "mimetype": "text/x-python",
   "name": "python",
   "nbconvert_exporter": "python",
   "pygments_lexer": "ipython3",
   "version": "3.12.2"
  }
 },
 "nbformat": 4,
 "nbformat_minor": 5
}
