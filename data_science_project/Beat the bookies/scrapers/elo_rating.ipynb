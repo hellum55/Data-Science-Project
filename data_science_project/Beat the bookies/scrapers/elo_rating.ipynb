{
 "cells": [
  {
   "cell_type": "code",
   "execution_count": null,
   "metadata": {},
   "outputs": [],
   "source": [
    "%env SOCCERDATA_LOGLEVEL=ERROR\n",
    "%env SOCCERDATA_NOCACHE=True\n",
    "%env SOCCERDATA_NOSTORE=True"
   ]
  },
  {
   "cell_type": "code",
   "execution_count": null,
   "metadata": {},
   "outputs": [],
   "source": [
    "import soccerdata as sd\n",
    "import pandas as pd"
   ]
  },
  {
   "cell_type": "code",
   "execution_count": null,
   "metadata": {},
   "outputs": [],
   "source": [
    "elo = sd.ClubElo()\n",
    "print(elo.__doc__)"
   ]
  },
  {
   "cell_type": "code",
   "execution_count": null,
   "metadata": {},
   "outputs": [],
   "source": [
    "import pandas as pd\n",
    "\n",
    "# Initialize an empty DataFrame to store Elo ratings\n",
    "elo_df = pd.DataFrame()\n",
    "\n",
    "# Define team names\n",
    "team_names = ['Real Madrid',\n",
    "'Barcelona',\n",
    "'Atlético',\n",
    "'Girona',\n",
    "'Sociedad',\n",
    "'Bilbao',\n",
    "'Villarreal',\n",
    "'Betis',\n",
    "'Sevilla',\n",
    "'Valencia',\n",
    "'Getafe',\n",
    "'Celta',\n",
    "'Alavés',\n",
    "'Mallorca',\n",
    "'Osasuna',\n",
    "'Rayo Vallecano',\n",
    "'Valladolid',\n",
    "'Cadiz',\n",
    "'Las Palmas',\n",
    "'Espanyol',\n",
    "'Elche', \n",
    "'Granada',\n",
    "'Levante',\n",
    "'Huesca', \n",
    "'Eibar', \n",
    "'Leganes',\n",
    "'Almeria']  # Example team names\n",
    "\n",
    "# Iterate through team names\n",
    "for team_name in team_names:\n",
    "    # Read Elo rating history for the current team\n",
    "    team_elo_history = elo.read_team_history(team_name)\n",
    "    team_elo_df = pd.DataFrame(team_elo_history)\n",
    "    \n",
    "    # Convert 'to' column to datetime if it's not already in datetime format\n",
    "    team_elo_df['to'] = pd.to_datetime(team_elo_df['to'])\n",
    "    \n",
    "    # Filter the DataFrame for the current team\n",
    "    filtered_team_elo_df = team_elo_df[(team_elo_df['to'] >= '2019-08-01') & (team_elo_df['to'] <= '2024-05-12')]\n",
    "    \n",
    "    # Append filtered Elo rating history to elo_df\n",
    "    elo_df = pd.concat([elo_df, filtered_team_elo_df], ignore_index=True)\n",
    "\n",
    "# Display or use the final DataFrame elo_df as needed\n",
    "print(elo_df)\n"
   ]
  },
  {
   "cell_type": "code",
   "execution_count": null,
   "metadata": {},
   "outputs": [],
   "source": [
    "elo_df.to_csv(\"team_elo.csv\")"
   ]
  }
 ],
 "metadata": {
  "language_info": {
   "name": "python"
  }
 },
 "nbformat": 4,
 "nbformat_minor": 2
}
