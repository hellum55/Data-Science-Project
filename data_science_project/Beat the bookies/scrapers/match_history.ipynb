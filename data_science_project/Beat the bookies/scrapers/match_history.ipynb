{
 "cells": [
  {
   "cell_type": "code",
   "execution_count": null,
   "metadata": {},
   "outputs": [],
   "source": [
    "import soccerdata as sd\n",
    "from soccerdata import MatchHistory\n",
    "import pandas as pd"
   ]
  },
  {
   "cell_type": "code",
   "execution_count": null,
   "metadata": {},
   "outputs": [],
   "source": [
    "%matplotlib inline\n",
    "%config InlineBackend.figure_format = 'retina'\n",
    "\n",
    "import matplotlib.pyplot as plt\n",
    "import pandas as pd\n",
    "import seaborn as sns\n",
    "\n",
    "sns.set_context(\"notebook\")\n",
    "sns.set_style(\"whitegrid\")"
   ]
  },
  {
   "cell_type": "code",
   "execution_count": null,
   "metadata": {},
   "outputs": [],
   "source": [
    "laliga_hist = sd.MatchHistory('ESP-La Liga', range(2019, 2024))\n",
    "games = laliga_hist.read_games()"
   ]
  },
  {
   "cell_type": "code",
   "execution_count": null,
   "metadata": {},
   "outputs": [],
   "source": [
    "games.to_csv(\"match_history.csv\")"
   ]
  },
  {
   "cell_type": "code",
   "execution_count": null,
   "metadata": {},
   "outputs": [],
   "source": [
    "def home_away_results(games: pd.DataFrame):\n",
    "    \"\"\"Returns aggregated home/away results per team\"\"\"\n",
    "\n",
    "    res = (\n",
    "        pd.melt(games.reset_index(),\n",
    "                id_vars=['date', 'FTR'],\n",
    "                value_name='team', var_name='is_home',\n",
    "                value_vars=['home_team', 'away_team']))\n",
    "\n",
    "    res.is_home = res.is_home.replace(['home_team', 'away_team'], ['Home', 'Away'])\n",
    "    res['win'] = res['lose'] = res['draw'] = 0\n",
    "    res.loc[(res['is_home'] == 'Home') & (res['FTR'] == 'H'), 'win'] = 1\n",
    "    res.loc[(res['is_home'] == 'Away') & (res['FTR'] == 'A'), 'win'] = 1\n",
    "    res.loc[(res['is_home'] == 'Home') & (res['FTR'] == 'A'), 'lose'] = 1\n",
    "    res.loc[(res['is_home'] == 'Away') & (res['FTR'] == 'H'), 'lose'] = 1\n",
    "    res.loc[res['FTR'] == 'D', 'draw'] = 1\n",
    "\n",
    "    g = res.groupby(['team', 'is_home'])\n",
    "    w = (g.win.agg(['sum', 'mean'])\n",
    "         .rename(columns={'sum': 'n_win', 'mean': 'win_pct'}))\n",
    "    l = (g.lose.agg(['sum', 'mean'])\n",
    "         .rename(columns={'sum': 'n_lose', 'mean': 'lose_pct'}))\n",
    "    d = (g.draw.agg(['sum', 'mean'])\n",
    "         .rename(columns={'sum': 'n_draw', 'mean': 'draw_pct'}))\n",
    "\n",
    "    res = pd.concat([w, l, d], axis=1)\n",
    "    return res"
   ]
  },
  {
   "cell_type": "code",
   "execution_count": null,
   "metadata": {},
   "outputs": [],
   "source": [
    "results = home_away_results(games)\n",
    "results.head(6)"
   ]
  },
  {
   "cell_type": "code",
   "execution_count": null,
   "metadata": {},
   "outputs": [],
   "source": [
    "g = sns.FacetGrid(results.reset_index(), hue='team', palette='Set2', height=6, aspect=.5)\n",
    "g.map(sns.pointplot, 'is_home', 'win_pct', order=[\"Away\", \"Home\"])\n",
    "g.set_axis_labels('', 'win %');"
   ]
  },
  {
   "cell_type": "code",
   "execution_count": null,
   "metadata": {},
   "outputs": [],
   "source": [
    "g = sns.FacetGrid(results.reset_index(), col='team', col_wrap=5)\n",
    "g.map(sns.pointplot, 'is_home', 'win_pct', order=[\"Away\", \"Home\"])\n",
    "g.set_axis_labels('', 'win %');"
   ]
  },
  {
   "cell_type": "code",
   "execution_count": null,
   "metadata": {},
   "outputs": [],
   "source": []
  }
 ],
 "metadata": {
  "language_info": {
   "name": "python"
  }
 },
 "nbformat": 4,
 "nbformat_minor": 2
}
