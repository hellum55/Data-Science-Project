{
 "cells": [
  {
   "cell_type": "code",
   "execution_count": 4,
   "id": "50460349-eff5-484a-a7df-03cb37cfb92a",
   "metadata": {},
   "outputs": [
    {
     "name": "stdout",
     "output_type": "stream",
     "text": [
      "Project structure created successfully.\n"
     ]
    }
   ],
   "source": [
    "import os\n",
    "\n",
    "# Define the project structure\n",
    "project_structure = {\n",
    "    'data': ['raw_data.csv'],\n",
    "    'models': [],\n",
    "    'notebooks': [],\n",
    "    'scripts': ['ingest_data.py', 'train_model.py', 'evaluate_model.py'],\n",
    "    '': ['mlflow_config.yml', 'requirements.txt', '.gitignore', 'ci-cd-pipeline.yml', 'README.md']\n",
    "}\n",
    "\n",
    "# Function to create the project structure\n",
    "def create_project_structure(base_path, structure):\n",
    "    for folder, contents in structure.items():\n",
    "        folder_path = os.path.join(base_path, folder)\n",
    "        if folder:  # Create directories only if folder is not an empty string\n",
    "            os.makedirs(folder_path, exist_ok=True)\n",
    "        for item in contents:\n",
    "            file_path = os.path.join(folder_path, item) if folder else os.path.join(base_path, item)\n",
    "            with open(file_path, 'w') as f:\n",
    "                f.write(f'# Placeholder for {item}\\n')\n",
    "\n",
    "# Base path for the project\n",
    "base_path = './my_mlflow_project'\n",
    "\n",
    "# Create the project structure\n",
    "create_project_structure(base_path, project_structure)\n",
    "\n",
    "# Add specific content to README.md\n",
    "with open(os.path.join(base_path, 'README.md'), 'w') as f:\n",
    "    f.write(\"# My MLflow Project\\n\\nThis is a placeholder for the project README.\\n\")\n",
    "\n",
    "# Add specific content to .gitignore\n",
    "with open(os.path.join(base_path, '.gitignore'), 'w') as f:\n",
    "    f.write(\"*.pyc\\n__pycache__/\\n\")\n",
    "\n",
    "# Add specific content to requirements.txt\n",
    "with open(os.path.join(base_path, 'requirements.txt'), 'w') as f:\n",
    "    f.write(\"mlflow\\nscikit-learn\\npandas\\n\")\n",
    "\n",
    "# Add specific content to mlflow_config.yml\n",
    "with open(os.path.join(base_path, 'mlflow_config.yml'), 'w') as f:\n",
    "    f.write(\"\"\"experiment:\n",
    "  name: \"my_mlflow_experiment\"\n",
    "  tracking_uri: \"http://127.0.0.1:5000\"\n",
    "  artifact_location: \"./mlruns\"\n",
    "\n",
    "model_registry:\n",
    "  model_name: \"my_model\"\n",
    "\"\"\")\n",
    "\n",
    "# Add specific content to ci-cd-pipeline.yml\n",
    "with open(os.path.join(base_path, 'ci-cd-pipeline.yml'), 'w') as f:\n",
    "    f.write(\"\"\"name: CI/CD Pipeline\n",
    "\n",
    "on:\n",
    "  push:\n",
    "    branches:\n",
    "      - main\n",
    "\n",
    "jobs:\n",
    "  build-and-deploy:\n",
    "    runs-on: ubuntu-latest\n",
    "\n",
    "    steps:\n",
    "      - name: Checkout repository\n",
    "        uses: actions/checkout@v2\n",
    "\n",
    "      - name: Set up Python\n",
    "        uses: actions/setup-python@v2\n",
    "        with:\n",
    "          python-version: 3.8\n",
    "\n",
    "      - name: Install dependencies\n",
    "        run: pip install -r requirements.txt\n",
    "\n",
    "      - name: Run data ingestion\n",
    "        run: python scripts/ingest_data.py\n",
    "\n",
    "      - name: Run model training\n",
    "        run: python scripts/train_model.py\n",
    "\n",
    "      - name: Run model evaluation\n",
    "        run: python scripts/evaluate_model.py\n",
    "\"\"\")\n",
    "\n",
    "print(\"Project structure created successfully.\")\n"
   ]
  },
  {
   "cell_type": "code",
   "execution_count": 5,
   "id": "fc8ab658-07e1-4d98-9587-78e9665efdd9",
   "metadata": {},
   "outputs": [
    {
     "ename": "SyntaxError",
     "evalue": "invalid syntax (240341771.py, line 1)",
     "output_type": "error",
     "traceback": [
      "\u001b[0;36m  Cell \u001b[0;32mIn[5], line 1\u001b[0;36m\u001b[0m\n\u001b[0;31m    python create_project_structure.py\u001b[0m\n\u001b[0m           ^\u001b[0m\n\u001b[0;31mSyntaxError\u001b[0m\u001b[0;31m:\u001b[0m invalid syntax\n"
     ]
    }
   ],
   "source": [
    "python create_project_structure.py"
   ]
  }
 ],
 "metadata": {
  "kernelspec": {
   "display_name": "Python 3 (ipykernel)",
   "language": "python",
   "name": "python3"
  },
  "language_info": {
   "codemirror_mode": {
    "name": "ipython",
    "version": 3
   },
   "file_extension": ".py",
   "mimetype": "text/x-python",
   "name": "python",
   "nbconvert_exporter": "python",
   "pygments_lexer": "ipython3",
   "version": "3.12.2"
  }
 },
 "nbformat": 4,
 "nbformat_minor": 5
}
