{
 "cells": [
  {
   "cell_type": "code",
   "execution_count": 1,
   "metadata": {},
   "outputs": [],
   "source": [
    "import pandas as pd\n",
    "from sklearn.model_selection import train_test_split, TimeSeriesSplit, GridSearchCV\n",
    "from sklearn.ensemble import RandomForestClassifier\n",
    "from sklearn.preprocessing import StandardScaler\n",
    "from sklearn.metrics import accuracy_score, f1_score, confusion_matrix, classification_report\n",
    "import mlflow\n",
    "import mlflow.sklearn"
   ]
  },
  {
   "cell_type": "code",
   "execution_count": 2,
   "metadata": {},
   "outputs": [
    {
     "name": "stdout",
     "output_type": "stream",
     "text": [
      "Current MLflow Tracking URI: file:///C:/Users/Christian/Documents/Cand.%20merc/Data-Science-Project/data_science_project/Beat%20the%20bookies/mlflow/mlruns\n"
     ]
    }
   ],
   "source": [
    "current_uri = mlflow.get_tracking_uri()\n",
    "print(f\"Current MLflow Tracking URI: {current_uri}\")"
   ]
  },
  {
   "cell_type": "code",
   "execution_count": 4,
   "metadata": {},
   "outputs": [],
   "source": [
    "# Set the URI to your desired MLflow tracking server with host and port\n",
    "mlflow.set_tracking_uri(\"http://127.0.0.1:8080\")"
   ]
  },
  {
   "cell_type": "code",
   "execution_count": 5,
   "metadata": {},
   "outputs": [
    {
     "ename": "SyntaxError",
     "evalue": "invalid syntax (436093207.py, line 1)",
     "output_type": "error",
     "traceback": [
      "\u001b[1;36m  Cell \u001b[1;32mIn[5], line 1\u001b[1;36m\u001b[0m\n\u001b[1;33m    mlflow server --host 127.0.0.1 --port 8080\u001b[0m\n\u001b[1;37m           ^\u001b[0m\n\u001b[1;31mSyntaxError\u001b[0m\u001b[1;31m:\u001b[0m invalid syntax\n"
     ]
    }
   ],
   "source": [
    "mlflow server --host 127.0.0.1 --port 8080"
   ]
  },
  {
   "cell_type": "code",
   "execution_count": 6,
   "metadata": {},
   "outputs": [],
   "source": [
    "def train_random_forest(file_path, random_state=42):\n",
    "    \"\"\"\n",
    "    Train a Random Forest classifier on the given dataset.\n",
    "\n",
    "    Args:\n",
    "        file_path (str): The path to the CSV file containing the dataset.\n",
    "        test_size (float, optional): The proportion of the dataset to include in the test split. Defaults to 0.2.\n",
    "        random_state (int, optional): The seed used by the random number generator. Defaults to 42.\n",
    "    \"\"\"\n",
    "    # Load and prepare the data\n",
    "    pred_df = pd.read_csv(file_path, index_col=0)\n",
    "\n",
    "    pred_df['Home'] = pred_df['Home'].astype('category')\n",
    "    pred_df['Away'] = pred_df['Away'].astype('category')\n",
    "    pred_df['FTR'] = pred_df['FTR'].astype('category')\n",
    "\n",
    "    # Ensure 'Date' is in datetime format\n",
    "    pred_df['Date'] = pd.to_datetime(pred_df['Date'])\n",
    "\n",
    "    # Split data into train and test sets based on date\n",
    "    train = pred_df[pred_df['Date'] < '2024-01-01']\n",
    "    test = pred_df[pred_df['Date'] >= '2024-01-01']\n",
    "\n",
    "    # Define predictors and target for train and test sets\n",
    "    X_train = train[['Home', 'Away', 'Attendance', 'B365H', 'B365D', 'B365A',\n",
    "                     'AttackStrengthHome', 'AttackStrengthAway', 'DefenseWeaknessHome',\n",
    "                     'DefenseWeaknessAway', 'AvgHomePoints', 'AvgAwayPoints',\n",
    "                     'AvgLosingHomePoints', 'AvgLosingAwayPoints', 'AvgGoalDiffHome',\n",
    "                     'AvgGoalDiffAway', 'HomeWinsRatio', 'HomeDrawsRatio', 'AwayWinsRatio',\n",
    "                     'AwayDrawsRatio', 'AvgHomeCornersLast5', 'AvgAwayCornersLast5',\n",
    "                     'AvgHomeShotsLast5', 'AvgHomeShotsOnTargetLast5', 'AvgAwayShotsLast5',\n",
    "                     'AvgAwayShotsOnTargetLast5', 'elo', 'elo_away', 'FormHomeTeam',\n",
    "                     'FormAwayTeam', 'ProbabilityDraw', 'ProbabilityHomeWin',\n",
    "                     'ProbabilityAwayWin']]\n",
    "    y_train = train['FTR']\n",
    "    X_test = test[X_train.columns]\n",
    "    y_test = test['FTR']\n",
    "\n",
    "    # Standardize the data\n",
    "    scaler = StandardScaler()\n",
    "    X_train_scaled = scaler.fit_transform(X_train)\n",
    "    X_test_scaled = scaler.transform(X_test)\n",
    "\n",
    "    # Define the parameter grid with stricter regularization\n",
    "    param_grid = {\n",
    "        'n_estimators': [50, 500],  # Use fewer estimators to reduce complexity\n",
    "        'max_depth': [5, 10, 15],\n",
    "        'max_features': ['sqrt', 'log2']  # Limit the number of features considered for splitting at each node\n",
    "    }\n",
    "\n",
    "    # Initialize TimeSeriesSplit\n",
    "    tscv = TimeSeriesSplit(n_splits=5)\n",
    "\n",
    "    # Initialize RandomForestClassifier\n",
    "    rf_model = RandomForestClassifier(random_state=random_state)\n",
    "\n",
    "    # Initialize GridSearchCV with TimeSeriesSplit on training set only\n",
    "    grid_search = GridSearchCV(estimator=rf_model, param_grid=param_grid, cv=tscv, n_jobs=-1, scoring='accuracy')\n",
    "    grid_search.fit(X_train_scaled, y_train)\n",
    "\n",
    "    # Get the best parameters\n",
    "    best_params = grid_search.best_params_\n",
    "    print(\"Best Parameters:\", best_params)\n",
    "\n",
    "    # Get the best model\n",
    "    best_rf_model = grid_search.best_estimator_\n",
    "\n",
    "    # Train the best model on the entire training set\n",
    "    best_rf_model.fit(X_train_scaled, y_train)\n",
    "\n",
    "    # Make predictions on training set\n",
    "    y_train_pred = best_rf_model.predict(X_train_scaled)\n",
    "\n",
    "    # Make predictions on test set\n",
    "    y_test_pred = best_rf_model.predict(X_test_scaled)\n",
    "\n",
    "    # Calculate metrics\n",
    "    train_accuracy = accuracy_score(y_train, y_train_pred)\n",
    "    test_accuracy = accuracy_score(y_test, y_test_pred)\n",
    "    train_f1 = f1_score(y_train, y_train_pred, average='weighted')\n",
    "    test_f1 = f1_score(y_test, y_test_pred, average='weighted')\n",
    "\n",
    "    # Print the metrics\n",
    "    print(f\"Training Accuracy with Best Random Forest: {train_accuracy:.4f}\")\n",
    "    print(f\"Test Accuracy with Best Random Forest: {test_accuracy:.4f}\")\n",
    "    print(f\"Training F1 Score with Best Random Forest: {train_f1:.4f}\")\n",
    "    print(f\"Test F1 Score with Best Random Forest: {test_f1:.4f}\")\n",
    "\n",
    "    # Print the confusion matrix\n",
    "    print(\"Confusion Matrix - Training Set with Best Random Forest\")\n",
    "    print(confusion_matrix(y_train, y_train_pred))\n",
    "\n",
    "    print(\"Confusion Matrix - Test Set with Best Random Forest\")\n",
    "    print(confusion_matrix(y_test, y_test_pred))\n",
    "\n",
    "    # Print classification report\n",
    "    print(\"Classification Report - Training Set with Best Random Forest\")\n",
    "    print(classification_report(y_train, y_train_pred))\n",
    "\n",
    "    print(\"Classification Report - Test Set with Best Random Forest\")\n",
    "    print(classification_report(y_test, y_test_pred))\n",
    "\n",
    "    # Set our tracking server uri for logging\n",
    "    #mlflow server --host 127.0.0.1 --port 8080\n",
    "    \n",
    "    # Set experiment name\n",
    "    mlflow.set_experiment(\"Random Forest Model Training\")\n",
    "\n",
    "    # Start an MLflow run\n",
    "    with mlflow.start_run():\n",
    "\n",
    "        # Log the accuracy and F1 score metrics\n",
    "        mlflow.log_metric(\"train_accuracy\", train_accuracy)\n",
    "        mlflow.log_metric(\"test_accuracy\", test_accuracy)\n",
    "        mlflow.log_metric(\"train_f1\", train_f1)\n",
    "        mlflow.log_metric(\"test_f1\", test_f1)\n",
    "\n",
    "        # Set a tag that we can use to remind ourselves what this run was for\n",
    "        mlflow.set_tag(\"Training Info\", \"Random Forest model training with accuracy and F1 score metrics.\")\n",
    "\n",
    "        # Log the model\n",
    "        mlflow.sklearn.log_model(\n",
    "            sk_model=best_rf_model,\n",
    "            artifact_path=\"random_forest_model\",\n",
    "            registered_model_name=\"RandomForestClassifier\"\n",
    "        )\n",
    "\n",
    "    return best_rf_model, train_accuracy, test_accuracy, train_f1, test_f1"
   ]
  },
  {
   "cell_type": "code",
   "execution_count": 7,
   "metadata": {},
   "outputs": [
    {
     "name": "stdout",
     "output_type": "stream",
     "text": [
      "Best Parameters: {'max_depth': 5, 'max_features': 'sqrt', 'n_estimators': 500}\n"
     ]
    },
    {
     "name": "stderr",
     "output_type": "stream",
     "text": [
      "2024/06/15 11:31:38 INFO mlflow.tracking.fluent: Experiment with name 'Random Forest Model Training' does not exist. Creating a new experiment.\n"
     ]
    },
    {
     "name": "stdout",
     "output_type": "stream",
     "text": [
      "Training Accuracy with Best Random Forest: 0.6100\n",
      "Test Accuracy with Best Random Forest: 0.5375\n",
      "Training F1 Score with Best Random Forest: 0.5739\n",
      "Test F1 Score with Best Random Forest: 0.4956\n",
      "Confusion Matrix - Training Set with Best Random Forest\n",
      "[[281  18 172]\n",
      " [106 103 262]\n",
      " [ 89  16 653]]\n",
      "Confusion Matrix - Test Set with Best Random Forest\n",
      "[[24  8 17]\n",
      " [ 8  3 27]\n",
      " [ 9  5 59]]\n",
      "Classification Report - Training Set with Best Random Forest\n",
      "              precision    recall  f1-score   support\n",
      "\n",
      "           A       0.59      0.60      0.59       471\n",
      "           D       0.75      0.22      0.34       471\n",
      "           H       0.60      0.86      0.71       758\n",
      "\n",
      "    accuracy                           0.61      1700\n",
      "   macro avg       0.65      0.56      0.55      1700\n",
      "weighted avg       0.64      0.61      0.57      1700\n",
      "\n",
      "Classification Report - Test Set with Best Random Forest\n",
      "              precision    recall  f1-score   support\n",
      "\n",
      "           A       0.59      0.49      0.53        49\n",
      "           D       0.19      0.08      0.11        38\n",
      "           H       0.57      0.81      0.67        73\n",
      "\n",
      "    accuracy                           0.54       160\n",
      "   macro avg       0.45      0.46      0.44       160\n",
      "weighted avg       0.49      0.54      0.50       160\n",
      "\n"
     ]
    },
    {
     "name": "stderr",
     "output_type": "stream",
     "text": [
      "Successfully registered model 'RandomForestClassifier'.\n",
      "2024/06/15 11:31:44 INFO mlflow.store.model_registry.abstract_store: Waiting up to 300 seconds for model version to finish creation. Model name: RandomForestClassifier, version 1\n",
      "Created version '1' of model 'RandomForestClassifier'.\n"
     ]
    }
   ],
   "source": [
    "best_model, train_acc, test_acc, train_f1, test_f1 = train_random_forest(\"C:/Users/Christian/Documents/Cand. merc/Data-Science-Project/data_science_project/Beat the bookies/data/df_preprocessed.csv\")"
   ]
  },
  {
   "cell_type": "code",
   "execution_count": 15,
   "metadata": {},
   "outputs": [
    {
     "ename": "AttributeError",
     "evalue": "'function' object has no attribute 'py'",
     "output_type": "error",
     "traceback": [
      "\u001b[1;31m---------------------------------------------------------------------------\u001b[0m",
      "\u001b[1;31mAttributeError\u001b[0m                            Traceback (most recent call last)",
      "Cell \u001b[1;32mIn[15], line 1\u001b[0m\n\u001b[1;32m----> 1\u001b[0m \u001b[43mtrain_random_forest\u001b[49m\u001b[38;5;241;43m.\u001b[39;49m\u001b[43mpy\u001b[49m\n",
      "\u001b[1;31mAttributeError\u001b[0m: 'function' object has no attribute 'py'"
     ]
    }
   ],
   "source": [
    "train_random_forest.py"
   ]
  },
  {
   "cell_type": "code",
   "execution_count": null,
   "metadata": {},
   "outputs": [],
   "source": []
  }
 ],
 "metadata": {
  "kernelspec": {
   "display_name": "Python 3 (ipykernel)",
   "language": "python",
   "name": "python3"
  },
  "language_info": {
   "codemirror_mode": {
    "name": "ipython",
    "version": 3
   },
   "file_extension": ".py",
   "mimetype": "text/x-python",
   "name": "python",
   "nbconvert_exporter": "python",
   "pygments_lexer": "ipython3",
   "version": "3.11.9"
  }
 },
 "nbformat": 4,
 "nbformat_minor": 4
}
