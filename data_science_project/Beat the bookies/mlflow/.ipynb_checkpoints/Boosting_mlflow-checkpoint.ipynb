{
 "cells": [
  {
   "cell_type": "code",
   "execution_count": null,
   "metadata": {},
   "outputs": [],
   "source": [
    "import numpy as np\n",
    "import pandas as pd\n",
    "from matplotlib.pyplot import subplots\n",
    "import sklearn.model_selection as skm"
   ]
  },
  {
   "cell_type": "code",
   "execution_count": null,
   "metadata": {},
   "outputs": [],
   "source": [
    "from sklearn.tree import (DecisionTreeClassifier as DTC, DecisionTreeRegressor as DTR, plot_tree , export_text)\n",
    "from sklearn.ensemble import \\\n",
    "(RandomForestRegressor as RF, GradientBoostingRegressor as GBR)"
   ]
  },
  {
   "cell_type": "code",
   "execution_count": null,
   "metadata": {},
   "outputs": [],
   "source": [
    "from sklearn.metrics import (accuracy_score,log_loss)\n",
    "from sklearn.ensemble import (RandomForestRegressor as RF,GradientBoostingRegressor as GBR,\n",
    "                             GradientBoostingClassifier as GBC,\n",
    "                             BaggingClassifier as BC)"
   ]
  },
  {
   "cell_type": "code",
   "execution_count": null,
   "metadata": {},
   "outputs": [],
   "source": [
    "pred = pd.read_csv(\"/Users/christianhellum/Cand. Merc./Data-Science-Project/data_science_project/Beat the bookies/data/df_preprocessed.csv\", index_col=0)"
   ]
  },
  {
   "cell_type": "code",
   "execution_count": null,
   "metadata": {},
   "outputs": [],
   "source": [
    "pred"
   ]
  },
  {
   "cell_type": "code",
   "execution_count": null,
   "metadata": {},
   "outputs": [],
   "source": [
    "pred['Home'] = pred['Home'].astype('category')\n",
    "pred['Away'] = pred['Away'].astype('category')\n",
    "pred['FTR'] = pred['FTR'].astype('category')"
   ]
  },
  {
   "cell_type": "code",
   "execution_count": null,
   "metadata": {},
   "outputs": [],
   "source": [
    "model = MS(pred.columns.drop(['FTR', 'Date']), intercept=False)\n",
    "D = model.fit_transform(pred)\n",
    "feature_names = list(D.columns)\n",
    "X = np.asarray(D)"
   ]
  },
  {
   "cell_type": "code",
   "execution_count": null,
   "metadata": {},
   "outputs": [],
   "source": [
    "y=pred['FTR']\n",
    "(X_train, X_test, y_train, y_test) = skm.train_test_split(X,y,train_size=1700,random_state=1)"
   ]
  },
  {
   "cell_type": "code",
   "execution_count": null,
   "metadata": {},
   "outputs": [],
   "source": [
    "#Boosting\n",
    "boost_pred = GBC(random_state=0, n_estimators=40, learning_rate=0.01, max_depth=3)\n",
    "boost_pred.fit(X_train, y_train)"
   ]
  },
  {
   "cell_type": "code",
   "execution_count": null,
   "metadata": {},
   "outputs": [],
   "source": [
    "from sklearn.metrics import accuracy_score, confusion_matrix, classification_report\n",
    "print(classification_report(y_test, ypred))\n",
    "print(classification_report(y_train, ypred_train))"
   ]
  }
 ],
 "metadata": {
  "language_info": {
   "name": "python"
  }
 },
 "nbformat": 4,
 "nbformat_minor": 2
}
