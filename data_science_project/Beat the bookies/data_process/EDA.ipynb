{
 "cells": [
  {
   "cell_type": "code",
   "execution_count": 2,
   "metadata": {},
   "outputs": [],
   "source": [
    "df_final = pd.read_csv(\"/Users/Christian/Documents/Cand_merc/Data-Science-Project/data_science_project/Beat the bookies/data/Football_data_final_final.csv\")"
   ]
  },
  {
   "cell_type": "code",
   "execution_count": 3,
   "metadata": {},
   "outputs": [
    {
     "data": {
      "text/plain": [
       "Index(['Wk', 'Day', 'Date', 'Time', 'Home', 'Away', 'FTR', 'Attendance',\n",
       "       'B365H', 'B365D', 'B365A', 'AttackStrengthHome', 'AttackStrengthAway',\n",
       "       'DefenseWeaknessHome', 'DefenseWeaknessAway', 'Season', 'AvgHomePoints',\n",
       "       'AvgAwayPoints', 'AvgLosingHomePoints', 'AvgLosingAwayPoints',\n",
       "       'AvgGoalDiffHome', 'AvgGoalDiffAway', 'HomeWinsRatio', 'HomeDrawsRatio',\n",
       "       'AwayWinsRatio', 'AwayDrawsRatio', 'AvgHomeCornersLast5',\n",
       "       'AvgAwayCornersLast5', 'AvgHomeShotsLast5', 'AvgHomeShotsOnTargetLast5',\n",
       "       'AvgAwayShotsLast5', 'AvgAwayShotsOnTargetLast5', 'elo', 'elo_away',\n",
       "       'FormHomeTeam', 'FormAwayTeam', 'ProbabilityDraw', 'ProbabilityHomeWin',\n",
       "       'ProbabilityAwayWin'],\n",
       "      dtype='object')"
      ]
     },
     "execution_count": 3,
     "metadata": {},
     "output_type": "execute_result"
    }
   ],
   "source": [
    "df_final.shape\n",
    "df_final.columns"
   ]
  },
  {
   "cell_type": "code",
   "execution_count": 4,
   "metadata": {},
   "outputs": [
    {
     "data": {
      "text/html": [
       "<div>\n",
       "<style scoped>\n",
       "    .dataframe tbody tr th:only-of-type {\n",
       "        vertical-align: middle;\n",
       "    }\n",
       "\n",
       "    .dataframe tbody tr th {\n",
       "        vertical-align: top;\n",
       "    }\n",
       "\n",
       "    .dataframe thead th {\n",
       "        text-align: right;\n",
       "    }\n",
       "</style>\n",
       "<table border=\"1\" class=\"dataframe\">\n",
       "  <thead>\n",
       "    <tr style=\"text-align: right;\">\n",
       "      <th></th>\n",
       "      <th>Wk</th>\n",
       "      <th>Day</th>\n",
       "      <th>Date</th>\n",
       "      <th>Time</th>\n",
       "      <th>Home</th>\n",
       "      <th>Away</th>\n",
       "      <th>FTR</th>\n",
       "      <th>Attendance</th>\n",
       "      <th>B365H</th>\n",
       "      <th>B365D</th>\n",
       "      <th>...</th>\n",
       "      <th>AvgHomeShotsOnTargetLast5</th>\n",
       "      <th>AvgAwayShotsLast5</th>\n",
       "      <th>AvgAwayShotsOnTargetLast5</th>\n",
       "      <th>elo</th>\n",
       "      <th>elo_away</th>\n",
       "      <th>FormHomeTeam</th>\n",
       "      <th>FormAwayTeam</th>\n",
       "      <th>ProbabilityDraw</th>\n",
       "      <th>ProbabilityHomeWin</th>\n",
       "      <th>ProbabilityAwayWin</th>\n",
       "    </tr>\n",
       "  </thead>\n",
       "  <tbody>\n",
       "    <tr>\n",
       "      <th>0</th>\n",
       "      <td>1.0</td>\n",
       "      <td>Fri</td>\n",
       "      <td>2019-08-16</td>\n",
       "      <td>20:00</td>\n",
       "      <td>Athletic Club</td>\n",
       "      <td>Barcelona</td>\n",
       "      <td>H</td>\n",
       "      <td>47693.0</td>\n",
       "      <td>5.25</td>\n",
       "      <td>3.80</td>\n",
       "      <td>...</td>\n",
       "      <td>0.0</td>\n",
       "      <td>0.0</td>\n",
       "      <td>0.0</td>\n",
       "      <td>1722.019409</td>\n",
       "      <td>2001.228638</td>\n",
       "      <td>0.0</td>\n",
       "      <td>0.0</td>\n",
       "      <td>0.226260</td>\n",
       "      <td>0.127955</td>\n",
       "      <td>0.645785</td>\n",
       "    </tr>\n",
       "    <tr>\n",
       "      <th>1</th>\n",
       "      <td>1.0</td>\n",
       "      <td>Sat</td>\n",
       "      <td>2019-08-17</td>\n",
       "      <td>16:00</td>\n",
       "      <td>Celta Vigo</td>\n",
       "      <td>Real Madrid</td>\n",
       "      <td>A</td>\n",
       "      <td>23566.0</td>\n",
       "      <td>4.75</td>\n",
       "      <td>4.20</td>\n",
       "      <td>...</td>\n",
       "      <td>0.0</td>\n",
       "      <td>0.0</td>\n",
       "      <td>0.0</td>\n",
       "      <td>1681.163452</td>\n",
       "      <td>1841.848999</td>\n",
       "      <td>0.0</td>\n",
       "      <td>0.0</td>\n",
       "      <td>0.239320</td>\n",
       "      <td>0.266267</td>\n",
       "      <td>0.494412</td>\n",
       "    </tr>\n",
       "    <tr>\n",
       "      <th>2</th>\n",
       "      <td>1.0</td>\n",
       "      <td>Sat</td>\n",
       "      <td>2019-08-17</td>\n",
       "      <td>18:00</td>\n",
       "      <td>Valencia</td>\n",
       "      <td>Real Sociedad</td>\n",
       "      <td>D</td>\n",
       "      <td>41846.0</td>\n",
       "      <td>1.66</td>\n",
       "      <td>3.75</td>\n",
       "      <td>...</td>\n",
       "      <td>0.0</td>\n",
       "      <td>0.0</td>\n",
       "      <td>0.0</td>\n",
       "      <td>1813.655029</td>\n",
       "      <td>1719.431152</td>\n",
       "      <td>0.0</td>\n",
       "      <td>0.0</td>\n",
       "      <td>0.229859</td>\n",
       "      <td>0.616701</td>\n",
       "      <td>0.153439</td>\n",
       "    </tr>\n",
       "    <tr>\n",
       "      <th>3</th>\n",
       "      <td>1.0</td>\n",
       "      <td>Sat</td>\n",
       "      <td>2019-08-17</td>\n",
       "      <td>19:00</td>\n",
       "      <td>Mallorca</td>\n",
       "      <td>Eibar</td>\n",
       "      <td>H</td>\n",
       "      <td>15127.0</td>\n",
       "      <td>2.80</td>\n",
       "      <td>3.20</td>\n",
       "      <td>...</td>\n",
       "      <td>0.0</td>\n",
       "      <td>0.0</td>\n",
       "      <td>0.0</td>\n",
       "      <td>1566.961060</td>\n",
       "      <td>1712.778198</td>\n",
       "      <td>0.0</td>\n",
       "      <td>0.0</td>\n",
       "      <td>0.240204</td>\n",
       "      <td>0.286297</td>\n",
       "      <td>0.473499</td>\n",
       "    </tr>\n",
       "    <tr>\n",
       "      <th>4</th>\n",
       "      <td>1.0</td>\n",
       "      <td>Sat</td>\n",
       "      <td>2019-08-17</td>\n",
       "      <td>20:00</td>\n",
       "      <td>Leganés</td>\n",
       "      <td>Osasuna</td>\n",
       "      <td>A</td>\n",
       "      <td>10020.0</td>\n",
       "      <td>2.00</td>\n",
       "      <td>3.20</td>\n",
       "      <td>...</td>\n",
       "      <td>0.0</td>\n",
       "      <td>0.0</td>\n",
       "      <td>0.0</td>\n",
       "      <td>1670.794800</td>\n",
       "      <td>1641.649048</td>\n",
       "      <td>0.0</td>\n",
       "      <td>0.0</td>\n",
       "      <td>0.237143</td>\n",
       "      <td>0.533531</td>\n",
       "      <td>0.229326</td>\n",
       "    </tr>\n",
       "  </tbody>\n",
       "</table>\n",
       "<p>5 rows × 39 columns</p>\n",
       "</div>"
      ],
      "text/plain": [
       "    Wk  Day        Date   Time           Home           Away FTR  Attendance  \\\n",
       "0  1.0  Fri  2019-08-16  20:00  Athletic Club      Barcelona   H     47693.0   \n",
       "1  1.0  Sat  2019-08-17  16:00     Celta Vigo    Real Madrid   A     23566.0   \n",
       "2  1.0  Sat  2019-08-17  18:00       Valencia  Real Sociedad   D     41846.0   \n",
       "3  1.0  Sat  2019-08-17  19:00       Mallorca          Eibar   H     15127.0   \n",
       "4  1.0  Sat  2019-08-17  20:00        Leganés        Osasuna   A     10020.0   \n",
       "\n",
       "   B365H  B365D  ...  AvgHomeShotsOnTargetLast5  AvgAwayShotsLast5  \\\n",
       "0   5.25   3.80  ...                        0.0                0.0   \n",
       "1   4.75   4.20  ...                        0.0                0.0   \n",
       "2   1.66   3.75  ...                        0.0                0.0   \n",
       "3   2.80   3.20  ...                        0.0                0.0   \n",
       "4   2.00   3.20  ...                        0.0                0.0   \n",
       "\n",
       "   AvgAwayShotsOnTargetLast5          elo     elo_away FormHomeTeam  \\\n",
       "0                        0.0  1722.019409  2001.228638          0.0   \n",
       "1                        0.0  1681.163452  1841.848999          0.0   \n",
       "2                        0.0  1813.655029  1719.431152          0.0   \n",
       "3                        0.0  1566.961060  1712.778198          0.0   \n",
       "4                        0.0  1670.794800  1641.649048          0.0   \n",
       "\n",
       "   FormAwayTeam  ProbabilityDraw  ProbabilityHomeWin  ProbabilityAwayWin  \n",
       "0           0.0         0.226260            0.127955            0.645785  \n",
       "1           0.0         0.239320            0.266267            0.494412  \n",
       "2           0.0         0.229859            0.616701            0.153439  \n",
       "3           0.0         0.240204            0.286297            0.473499  \n",
       "4           0.0         0.237143            0.533531            0.229326  \n",
       "\n",
       "[5 rows x 39 columns]"
      ]
     },
     "execution_count": 4,
     "metadata": {},
     "output_type": "execute_result"
    }
   ],
   "source": [
    "df_final.head()"
   ]
  },
  {
   "cell_type": "code",
   "execution_count": 5,
   "metadata": {},
   "outputs": [
    {
     "data": {
      "text/plain": [
       "FTR\n",
       "H    831\n",
       "A    520\n",
       "D    509\n",
       "Name: count, dtype: int64"
      ]
     },
     "execution_count": 5,
     "metadata": {},
     "output_type": "execute_result"
    }
   ],
   "source": [
    "df_final[\"FTR\"].value_counts()"
   ]
  },
  {
   "cell_type": "code",
   "execution_count": null,
   "metadata": {},
   "outputs": [],
   "source": [
    "def home_away_results(df_final: pd.DataFrame):\n",
    "    \"\"\"Returns aggregated home/away results per team\"\"\"\n",
    "\n",
    "    res = (\n",
    "        pd.melt(df_final.reset_index(),\n",
    "                id_vars=['Date', 'FTR'],\n",
    "                value_name='team', var_name='is_home',\n",
    "                value_vars=['Home', 'Away']))\n",
    "\n",
    "    res.is_home = res.is_home.replace(['home_team', 'away_team'], ['Home', 'Away'])\n",
    "    res['win'] = res['lose'] = res['draw'] = 0\n",
    "    res.loc[(res['is_home'] == 'Home') & (res['FTR'] == 'H'), 'win'] = 1\n",
    "    res.loc[(res['is_home'] == 'Away') & (res['FTR'] == 'A'), 'win'] = 1\n",
    "    res.loc[(res['is_home'] == 'Home') & (res['FTR'] == 'A'), 'lose'] = 1\n",
    "    res.loc[(res['is_home'] == 'Away') & (res['FTR'] == 'H'), 'lose'] = 1\n",
    "    res.loc[res['FTR'] == 'D', 'draw'] = 1\n",
    "\n",
    "    g = res.groupby(['team', 'is_home'])\n",
    "    w = (g.win.agg(['sum', 'mean'])\n",
    "         .rename(columns={'sum': 'n_win', 'mean': 'win_pct'}))\n",
    "    l = (g.lose.agg(['sum', 'mean'])\n",
    "         .rename(columns={'sum': 'n_lose', 'mean': 'lose_pct'}))\n",
    "    d = (g.draw.agg(['sum', 'mean'])\n",
    "         .rename(columns={'sum': 'n_draw', 'mean': 'draw_pct'}))\n",
    "\n",
    "    res = pd.concat([w, l, d], axis=1)\n",
    "    return res"
   ]
  },
  {
   "cell_type": "code",
   "execution_count": null,
   "metadata": {},
   "outputs": [],
   "source": [
    "results = home_away_results(df_final)\n",
    "results.head(6)"
   ]
  },
  {
   "cell_type": "code",
   "execution_count": null,
   "metadata": {},
   "outputs": [],
   "source": [
    "g = sns.FacetGrid(results.reset_index(), hue='team', palette='Set2', height=6, aspect=.5)\n",
    "g.map(sns.pointplot, 'is_home', 'win_pct', order=[\"Away\", \"Home\"])\n",
    "g.set_axis_labels('', 'win %');"
   ]
  },
  {
   "cell_type": "code",
   "execution_count": null,
   "metadata": {},
   "outputs": [],
   "source": [
    "g = sns.FacetGrid(results.reset_index(), col='team', col_wrap=5)\n",
    "g.map(sns.pointplot, 'is_home', 'win_pct', order=[\"Away\", \"Home\"])\n",
    "g.set_axis_labels('', 'win %');"
   ]
  },
  {
   "cell_type": "code",
   "execution_count": null,
   "metadata": {},
   "outputs": [],
   "source": [
    "summary_stats = df_final.describe()"
   ]
  },
  {
   "cell_type": "code",
   "execution_count": null,
   "metadata": {},
   "outputs": [],
   "source": [
    "summary_stats = summary_stats.drop(['25%', '50%', '75%'])"
   ]
  },
  {
   "cell_type": "code",
   "execution_count": null,
   "metadata": {},
   "outputs": [],
   "source": [
    "summary_stats.T"
   ]
  },
  {
   "cell_type": "code",
   "execution_count": 6,
   "metadata": {},
   "outputs": [
    {
     "name": "stderr",
     "output_type": "stream",
     "text": [
      "C:\\Users\\Christian\\AppData\\Local\\Temp\\ipykernel_7256\\3008560993.py:1: FutureWarning: Downcasting behavior in `replace` is deprecated and will be removed in a future version. To retain the old behavior, explicitly call `result.infer_objects(copy=False)`. To opt-in to the future behavior, set `pd.set_option('future.no_silent_downcasting', True)`\n",
      "  targetData = df_final['FTR'].replace({'H':1,'D':0,'A':-1})\n"
     ]
    }
   ],
   "source": [
    "targetData = df_final['FTR'].replace({'H':1,'D':0,'A':-1})"
   ]
  },
  {
   "cell_type": "code",
   "execution_count": null,
   "metadata": {},
   "outputs": [],
   "source": [
    "corr_data = df_final[['B365H', 'B365D', 'B365A',\n",
    "       'AvgHomePoints', 'AvgAwayPoints', 'AvgGoalDiffHome', 'AvgGoalDiffAway', 'AwayDrawsRatio', 'AvgHomeShotsLast5',\n",
    "       'AvgHomeShotsOnTargetLast5', 'AvgAwayShotsLast5',\n",
    "       'AvgAwayShotsOnTargetLast5', 'elo', 'elo_away', 'FormHomeTeam',\n",
    "       'FormAwayTeam', 'ProbabilityHomeWin', 'ProbabilityAwayWin']]"
   ]
  },
  {
   "cell_type": "code",
   "execution_count": null,
   "metadata": {},
   "outputs": [],
   "source": [
    "import seaborn as sns\n",
    "import matplotlib.pyplot as plt\n",
    "\n",
    "combined_data = pd.concat([corr_data, targetData], axis=1)\n",
    "\n",
    "# Calculate the correlation matrix\n",
    "correlation_matrix = combined_data.corr()\n",
    "\n",
    "# Plot a heatmap of the correlation matrix\n",
    "plt.figure(figsize=(10, 8))\n",
    "sns.heatmap(correlation_matrix, annot=True, cmap='coolwarm', fmt=\".2f\", annot_kws={\"size\": 10})\n",
    "plt.title(\"Correlation Heatmap\")\n",
    "plt.show()"
   ]
  },
  {
   "cell_type": "code",
   "execution_count": null,
   "metadata": {},
   "outputs": [],
   "source": [
    "df_final.to_csv(\"df_final.csv\")"
   ]
  },
  {
   "cell_type": "code",
   "execution_count": 7,
   "metadata": {},
   "outputs": [],
   "source": [
    "import pandas as pd\n",
    "import statsmodels.api as sm\n",
    "from statsmodels.stats.outliers_influence import variance_inflation_factor"
   ]
  },
  {
   "cell_type": "code",
   "execution_count": 9,
   "metadata": {},
   "outputs": [
    {
     "name": "stdout",
     "output_type": "stream",
     "text": [
      "                      Feature          VIF\n",
      "0                       B365H     7.329674\n",
      "1                       B365D     7.294843\n",
      "2                       B365A    11.185365\n",
      "3               AvgHomePoints     5.057337\n",
      "4               AvgAwayPoints     4.413091\n",
      "5             AvgGoalDiffHome     4.730024\n",
      "6             AvgGoalDiffAway     3.855302\n",
      "7              AwayDrawsRatio     1.076416\n",
      "8           AvgHomeShotsLast5     2.767815\n",
      "9   AvgHomeShotsOnTargetLast5     3.307350\n",
      "10          AvgAwayShotsLast5     2.693197\n",
      "11  AvgAwayShotsOnTargetLast5     3.173969\n",
      "12                        elo   104.161757\n",
      "13                   elo_away   103.793592\n",
      "14               FormHomeTeam     2.750635\n",
      "15               FormAwayTeam     2.933387\n",
      "16         ProbabilityHomeWin  1593.450924\n",
      "17         ProbabilityAwayWin  1000.419332\n"
     ]
    }
   ],
   "source": [
    "# Function to calculate VIF\n",
    "def calculate_vif(df):\n",
    "    # Add a constant to the model (required for statsmodels)\n",
    "    X = sm.add_constant(df)\n",
    "    vif_data = pd.DataFrame()\n",
    "    vif_data[\"Feature\"] = df.columns\n",
    "    vif_data[\"VIF\"] = [variance_inflation_factor(X.values, i + 1) for i in range(len(df.columns))]\n",
    "    return vif_data\n",
    "\n",
    "# Calculate VIF for df_final\n",
    "vif_data = calculate_vif(df_final[['B365H', 'B365D', 'B365A',\n",
    "       'AvgHomePoints', 'AvgAwayPoints', 'AvgGoalDiffHome', 'AvgGoalDiffAway', 'AwayDrawsRatio', 'AvgHomeShotsLast5',\n",
    "       'AvgHomeShotsOnTargetLast5', 'AvgAwayShotsLast5',\n",
    "       'AvgAwayShotsOnTargetLast5', 'elo', 'elo_away', 'FormHomeTeam',\n",
    "       'FormAwayTeam', 'ProbabilityHomeWin', 'ProbabilityAwayWin']])\n",
    "print(vif_data)"
   ]
  }
 ],
 "metadata": {
  "kernelspec": {
   "display_name": "data-science-project-VmJyb5kE-py3.11",
   "language": "python",
   "name": "python3"
  },
  "language_info": {
   "codemirror_mode": {
    "name": "ipython",
    "version": 3
   },
   "file_extension": ".py",
   "mimetype": "text/x-python",
   "name": "python",
   "nbconvert_exporter": "python",
   "pygments_lexer": "ipython3",
   "version": "3.11.9"
  }
 },
 "nbformat": 4,
 "nbformat_minor": 2
}
