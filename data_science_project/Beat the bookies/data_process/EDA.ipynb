{
 "cells": [
  {
   "cell_type": "code",
   "execution_count": null,
   "metadata": {},
   "outputs": [],
   "source": [
    "import pandas as pd\n",
    "import soccerdata as sd\n",
    "from soccerdata import MatchHistory"
   ]
  },
  {
   "cell_type": "code",
   "execution_count": null,
   "metadata": {},
   "outputs": [],
   "source": [
    "%matplotlib inline\n",
    "%config InlineBackend.figure_format = 'retina'\n",
    "\n",
    "import matplotlib.pyplot as plt\n",
    "import pandas as pd\n",
    "import seaborn as sns\n",
    "\n",
    "sns.set_context(\"notebook\")\n",
    "sns.set_style(\"whitegrid\")"
   ]
  },
  {
   "cell_type": "code",
   "execution_count": null,
   "metadata": {},
   "outputs": [],
   "source": [
    "df_final = pd.read_csv(\"/Users/christianhellum/Cand. Merc./Data-Science-Project/data_science_project/Beat the bookies/data/Football_data_final_final.csv\")"
   ]
  },
  {
   "cell_type": "code",
   "execution_count": null,
   "metadata": {},
   "outputs": [],
   "source": [
    "df_final.shape\n",
    "df_final.columns"
   ]
  },
  {
   "cell_type": "code",
   "execution_count": null,
   "metadata": {},
   "outputs": [],
   "source": [
    "df_final.head()"
   ]
  },
  {
   "cell_type": "code",
   "execution_count": null,
   "metadata": {},
   "outputs": [],
   "source": [
    "df_final[\"FTR\"].value_counts()"
   ]
  },
  {
   "cell_type": "code",
   "execution_count": null,
   "metadata": {},
   "outputs": [],
   "source": [
    "def home_away_results(df_final: pd.DataFrame):\n",
    "    \"\"\"Returns aggregated home/away results per team\"\"\"\n",
    "\n",
    "    res = (\n",
    "        pd.melt(df_final.reset_index(),\n",
    "                id_vars=['Date', 'FTR'],\n",
    "                value_name='team', var_name='is_home',\n",
    "                value_vars=['Home', 'Away']))\n",
    "\n",
    "    res.is_home = res.is_home.replace(['home_team', 'away_team'], ['Home', 'Away'])\n",
    "    res['win'] = res['lose'] = res['draw'] = 0\n",
    "    res.loc[(res['is_home'] == 'Home') & (res['FTR'] == 'H'), 'win'] = 1\n",
    "    res.loc[(res['is_home'] == 'Away') & (res['FTR'] == 'A'), 'win'] = 1\n",
    "    res.loc[(res['is_home'] == 'Home') & (res['FTR'] == 'A'), 'lose'] = 1\n",
    "    res.loc[(res['is_home'] == 'Away') & (res['FTR'] == 'H'), 'lose'] = 1\n",
    "    res.loc[res['FTR'] == 'D', 'draw'] = 1\n",
    "\n",
    "    g = res.groupby(['team', 'is_home'])\n",
    "    w = (g.win.agg(['sum', 'mean'])\n",
    "         .rename(columns={'sum': 'n_win', 'mean': 'win_pct'}))\n",
    "    l = (g.lose.agg(['sum', 'mean'])\n",
    "         .rename(columns={'sum': 'n_lose', 'mean': 'lose_pct'}))\n",
    "    d = (g.draw.agg(['sum', 'mean'])\n",
    "         .rename(columns={'sum': 'n_draw', 'mean': 'draw_pct'}))\n",
    "\n",
    "    res = pd.concat([w, l, d], axis=1)\n",
    "    return res"
   ]
  },
  {
   "cell_type": "code",
   "execution_count": null,
   "metadata": {},
   "outputs": [],
   "source": [
    "results = home_away_results(df_final)\n",
    "results.head(6)"
   ]
  },
  {
   "cell_type": "code",
   "execution_count": null,
   "metadata": {},
   "outputs": [],
   "source": [
    "g = sns.FacetGrid(results.reset_index(), hue='team', palette='Set2', height=6, aspect=.5)\n",
    "g.map(sns.pointplot, 'is_home', 'win_pct', order=[\"Away\", \"Home\"])\n",
    "g.set_axis_labels('', 'win %');"
   ]
  },
  {
   "cell_type": "code",
   "execution_count": null,
   "metadata": {},
   "outputs": [],
   "source": [
    "g = sns.FacetGrid(results.reset_index(), col='team', col_wrap=5)\n",
    "g.map(sns.pointplot, 'is_home', 'win_pct', order=[\"Away\", \"Home\"])\n",
    "g.set_axis_labels('', 'win %');"
   ]
  },
  {
   "cell_type": "code",
   "execution_count": null,
   "metadata": {},
   "outputs": [],
   "source": [
    "summary_stats = df_final.describe()"
   ]
  },
  {
   "cell_type": "code",
   "execution_count": null,
   "metadata": {},
   "outputs": [],
   "source": [
    "summary_stats = summary_stats.drop(['25%', '50%', '75%'])"
   ]
  },
  {
   "cell_type": "code",
   "execution_count": null,
   "metadata": {},
   "outputs": [],
   "source": [
    "summary_stats.T"
   ]
  },
  {
   "cell_type": "code",
   "execution_count": null,
   "metadata": {},
   "outputs": [],
   "source": [
    "targetData = df_final['FTR'].replace({'H':1,'D':0,'A':-1})"
   ]
  },
  {
   "cell_type": "code",
   "execution_count": null,
   "metadata": {},
   "outputs": [],
   "source": [
    "corr_data = df_final[['B365H', 'B365D', 'B365A',\n",
    "       'AvgHomePoints', 'AvgAwayPoints', 'AvgGoalDiffHome', 'AvgGoalDiffAway', 'AwayDrawsRatio', 'AvgHomeShotsLast5',\n",
    "       'AvgHomeShotsOnTargetLast5', 'AvgAwayShotsLast5',\n",
    "       'AvgAwayShotsOnTargetLast5', 'elo', 'elo_away', 'FormHomeTeam',\n",
    "       'FormAwayTeam', 'ProbabilityHomeWin', 'ProbabilityAwayWin']]"
   ]
  },
  {
   "cell_type": "code",
   "execution_count": null,
   "metadata": {},
   "outputs": [],
   "source": [
    "import seaborn as sns\n",
    "import matplotlib.pyplot as plt\n",
    "\n",
    "combined_data = pd.concat([corr_data, targetData], axis=1)\n",
    "\n",
    "# Calculate the correlation matrix\n",
    "correlation_matrix = combined_data.corr()\n",
    "\n",
    "# Plot a heatmap of the correlation matrix\n",
    "plt.figure(figsize=(10, 8))\n",
    "sns.heatmap(correlation_matrix, annot=True, cmap='coolwarm', fmt=\".2f\", annot_kws={\"size\": 10})\n",
    "plt.title(\"Correlation Heatmap\")\n",
    "plt.show()"
   ]
  },
  {
   "cell_type": "code",
   "execution_count": null,
   "metadata": {},
   "outputs": [],
   "source": [
    "df_final.to_csv(\"df_final.csv\")"
   ]
  }
 ],
 "metadata": {
  "language_info": {
   "name": "python"
  }
 },
 "nbformat": 4,
 "nbformat_minor": 2
}
