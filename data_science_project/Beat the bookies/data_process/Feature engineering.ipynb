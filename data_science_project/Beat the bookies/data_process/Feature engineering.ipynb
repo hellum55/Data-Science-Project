{
 "cells": [
  {
   "cell_type": "code",
   "execution_count": null,
   "metadata": {},
   "outputs": [],
   "source": [
    "import pandas as pd\n",
    "df_feature = pd.read_csv(\"/Users/christianhellum/Cand. Merc./Data-Science-Project/data_science_project/Beat the bookies/data/df_final.csv\", index_col=0)"
   ]
  },
  {
   "cell_type": "code",
   "execution_count": null,
   "metadata": {},
   "outputs": [],
   "source": [
    "df_feature.shape"
   ]
  },
  {
   "cell_type": "code",
   "execution_count": null,
   "metadata": {},
   "outputs": [],
   "source": [
    "del df_feature[\"Wk\"]\n",
    "del df_feature[\"Day\"]\n",
    "del df_feature[\"Time\"]\n",
    "del df_feature[\"Season\"]"
   ]
  },
  {
   "cell_type": "code",
   "execution_count": null,
   "metadata": {},
   "outputs": [],
   "source": [
    "df_feature"
   ]
  },
  {
   "cell_type": "code",
   "execution_count": null,
   "metadata": {},
   "outputs": [],
   "source": [
    "# Define the mapping dictionary\n",
    "mapping = {'H': 1, 'D': 0, 'A': -1}\n",
    "\n",
    "df_feature['FTR'] = df_feature['FTR'].map(mapping)"
   ]
  },
  {
   "cell_type": "code",
   "execution_count": null,
   "metadata": {},
   "outputs": [],
   "source": [
    "from sklearn.preprocessing import LabelEncoder\n",
    "import numpy as np"
   ]
  },
  {
   "cell_type": "code",
   "execution_count": null,
   "metadata": {},
   "outputs": [],
   "source": [
    "label_encoder = LabelEncoder()\n",
    "\n",
    "teams = pd.concat([df_feature['Home'], df_feature['Away']]).unique()\n",
    "teams_sorted = np.sort(teams)\n",
    "\n",
    "#Fit the encoder on the sorted team names\n",
    "label_encoder.fit(teams_sorted)\n",
    "\n",
    "#Transform the 'Home' and 'Away' columns\n",
    "df_feature['Home'] = label_encoder.transform(df_feature['Home'])\n",
    "df_feature['Away'] = label_encoder.transform(df_feature['Away'])\n",
    "\n",
    "#Optionally, to check the results\n",
    "print(df_feature[['Home', 'Home', 'Away', 'Away']].head())"
   ]
  },
  {
   "cell_type": "code",
   "execution_count": null,
   "metadata": {},
   "outputs": [],
   "source": [
    "from sklearn.feature_selection import VarianceThreshold\n",
    "\n",
    "numeric_columns = df_feature.select_dtypes(include=['number'])\n",
    "\n",
    "# Define the threshold for variance\n",
    "threshold = 0.01  # You can adjust this threshold based on your preference\n",
    "\n",
    "# Create a VarianceThreshold feature selector\n",
    "selector = VarianceThreshold(threshold)\n",
    "\n",
    "# Fit the selector to your DataFrame\n",
    "selector.fit(numeric_columns)\n",
    "\n",
    "# Get the indices of the features to keep\n",
    "indices_to_keep = selector.get_support(indices=True)\n",
    "\n",
    "# Drop the variables with low variance\n",
    "df_feature_high_variance = numeric_columns.iloc[:, indices_to_keep]\n",
    "\n",
    "# Concatenate 'Date' column back to df_feature_high_variance\n",
    "df_feature_high_variance['Date'] = df_feature['Date']"
   ]
  },
  {
   "cell_type": "code",
   "execution_count": null,
   "metadata": {},
   "outputs": [],
   "source": [
    "# Concatenate 'Date' column back to df_feature_high_variance\n",
    "df_feature_high_variance['FTR'] = df_feature['FTR']"
   ]
  },
  {
   "cell_type": "code",
   "execution_count": null,
   "metadata": {},
   "outputs": [],
   "source": [
    "df_feature.to_csv(\"df_preprocessed.csv\")"
   ]
  }
 ],
 "metadata": {
  "language_info": {
   "name": "python"
  }
 },
 "nbformat": 4,
 "nbformat_minor": 2
}
