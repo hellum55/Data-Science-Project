{
 "cells": [
  {
   "cell_type": "code",
   "execution_count": 1,
   "id": "1911bfbb-a0d2-450c-8425-d70beb00e99d",
   "metadata": {},
   "outputs": [
    {
     "name": "stdout",
     "output_type": "stream",
     "text": [
      "env: SOCCERDATA_LOGLEVEL=ERROR\n",
      "env: SOCCERDATA_NOCACHE=True\n",
      "env: SOCCERDATA_NOSTORE=True\n"
     ]
    }
   ],
   "source": [
    "%env SOCCERDATA_LOGLEVEL=ERROR\n",
    "%env SOCCERDATA_NOCACHE=True\n",
    "%env SOCCERDATA_NOSTORE=True"
   ]
  },
  {
   "cell_type": "code",
   "execution_count": 2,
   "id": "20fbc48f-7081-490f-80aa-8ea386bd550f",
   "metadata": {},
   "outputs": [],
   "source": [
    "import soccerdata as sd"
   ]
  },
  {
   "cell_type": "code",
   "execution_count": 5,
   "id": "61338ab0-0304-4593-b3c8-211973ec2989",
   "metadata": {},
   "outputs": [],
   "source": [
    "import pandas as pd"
   ]
  },
  {
   "cell_type": "code",
   "execution_count": 3,
   "id": "e08b7092-428f-4634-806f-74e9558d2c82",
   "metadata": {},
   "outputs": [
    {
     "name": "stdout",
     "output_type": "stream",
     "text": [
      "Provides pd.DataFrames from CSV API at http://api.clubelo.com.\n",
      "\n",
      "    Data will be downloaded as necessary and cached locally in\n",
      "    ``~/soccerdata/data/ClubElo``.\n",
      "\n",
      "    Since the source does not provide league names, this class will not filter\n",
      "    by league. League names will be inserted from the other sources where\n",
      "    available. Leagues that are only covered by clubelo.com will have NaN\n",
      "    values.\n",
      "\n",
      "    Parameters\n",
      "    ----------\n",
      "    proxy : 'tor' or dict or list(dict) or callable, optional\n",
      "        Use a proxy to hide your IP address. Valid options are:\n",
      "            - \"tor\": Uses the Tor network. Tor should be running in\n",
      "              the background on port 9050.\n",
      "            - dict: A dictionary with the proxy to use. The dict should be\n",
      "              a mapping of supported protocols to proxy addresses. For example::\n",
      "\n",
      "                  {\n",
      "                      'http': 'http://10.10.1.10:3128',\n",
      "                      'https': 'http://10.10.1.10:1080',\n",
      "                  }\n",
      "\n",
      "            - list(dict): A list of proxies to choose from. A different proxy will\n",
      "              be selected from this list after failed requests, allowing rotating\n",
      "              proxies.\n",
      "            - callable: A function that returns a valid proxy. This function will\n",
      "              be called after failed requests, allowing rotating proxies.\n",
      "    no_cache : bool\n",
      "        If True, will not use cached data.\n",
      "    no_store : bool\n",
      "        If True, will not store downloaded data.\n",
      "    data_dir : Path\n",
      "        Path to directory where data will be cached.\n",
      "    \n"
     ]
    }
   ],
   "source": [
    "elo = sd.ClubElo()\n",
    "print(elo.__doc__)"
   ]
  },
  {
   "cell_type": "code",
   "execution_count": 7,
   "id": "24b47351-47b0-4764-9bec-ee4b6be53d73",
   "metadata": {},
   "outputs": [],
   "source": [
    "elo_df = pd.DataFrame()\n",
    "# Append the Elo rating history for the team \"Sociedad\" to elo_df without filtering\n",
    "team_elo_sociedad = elo.read_team_history(\"Sociedad\")\n",
    "elo_df = pd.concat([elo_df, pd.DataFrame(team_elo_sociedad)], ignore_index=True)"
   ]
  },
  {
   "cell_type": "code",
   "execution_count": 9,
   "id": "bc156fe7-7783-490c-9bba-023845b86aee",
   "metadata": {},
   "outputs": [
    {
     "name": "stdout",
     "output_type": "stream",
     "text": [
      "      rank      team country  level          elo         to\n",
      "5781  42.0  Sociedad     ESP      1  1718.135620 2019-08-01\n",
      "5782  42.0  Sociedad     ESP      1  1718.150757 2019-08-08\n",
      "5783  42.0  Sociedad     ESP      1  1719.182007 2019-08-11\n",
      "5784  41.0  Sociedad     ESP      1  1719.182007 2019-08-13\n",
      "5785  40.0  Sociedad     ESP      1  1719.182007 2019-08-15\n",
      "...    ...       ...     ...    ...          ...        ...\n",
      "6327  33.0  Sociedad     ESP      1  1760.090820 2024-05-03\n",
      "6328  34.0  Sociedad     ESP      1  1760.090820 2024-05-04\n",
      "6329  32.0  Sociedad     ESP      1  1764.153198 2024-05-06\n",
      "6330  31.0  Sociedad     ESP      1  1764.153198 2024-05-08\n",
      "6331  31.0  Sociedad     ESP      1  1765.988770 2024-05-09\n",
      "\n",
      "[551 rows x 6 columns]\n"
     ]
    }
   ],
   "source": [
    "# Convert 'to' column to datetime if it's not already in datetime format\n",
    "elo_df['to'] = pd.to_datetime(elo_df['to'])\n",
    "\n",
    "# Filter the DataFrame\n",
    "filtered_elo_df = elo_df[(elo_df['to'] >= '2019-08-01') & (elo_df['to'] <= '2024-05-12')]\n",
    "\n",
    "# Display or use the filtered DataFrame as needed\n",
    "print(filtered_elo_df)"
   ]
  },
  {
   "cell_type": "code",
   "execution_count": 36,
   "id": "f32dd350-4882-4cf1-83e7-9068e2dc1ff6",
   "metadata": {},
   "outputs": [],
   "source": [
    "team_names = ['Real Madrid',\n",
    "'Barcelona',\n",
    "'Atlético',\n",
    "'Girona',\n",
    "'Sociedad',\n",
    "'Bilbao',\n",
    "'Villarreal',\n",
    "'Betis',\n",
    "'Sevilla',\n",
    "'Valencia',\n",
    "'Getafe',\n",
    "'Celta',\n",
    "'Alavés',\n",
    "'Mallorca',\n",
    "'Osasuna',\n",
    "'Rayo Vallecano',\n",
    "'Valladolid',\n",
    "'Cadiz',\n",
    "'Las Palmas',\n",
    "'Espanyol']"
   ]
  },
  {
   "cell_type": "code",
   "execution_count": 13,
   "id": "8ad83905-1166-4fb5-82e5-bc80f99ba78e",
   "metadata": {},
   "outputs": [
    {
     "name": "stdout",
     "output_type": "stream",
     "text": [
      "       rank         team country  level          elo         to\n",
      "0      11.0  Real Madrid     ESP      1  1840.553467 2019-08-01\n",
      "1      11.0  Real Madrid     ESP      1  1840.568726 2019-08-08\n",
      "2      11.0  Real Madrid     ESP      1  1841.599976 2019-08-15\n",
      "3      11.0  Real Madrid     ESP      1  1841.848999 2019-08-17\n",
      "4      11.0  Real Madrid     ESP      1  1850.097168 2019-08-22\n",
      "...     ...          ...     ...    ...          ...        ...\n",
      "14002   NaN      Leganes     ESP      2  1555.853882 2024-04-27\n",
      "14003   NaN      Leganes     ESP      2  1551.629517 2024-04-30\n",
      "14004   NaN      Leganes     ESP      2  1552.277832 2024-05-05\n",
      "14005   NaN      Leganes     ESP      2  1559.158569 2024-05-08\n",
      "14006   NaN      Leganes     ESP      2  1560.994141 2024-05-12\n",
      "\n",
      "[14007 rows x 6 columns]\n"
     ]
    }
   ],
   "source": [
    "import pandas as pd\n",
    "\n",
    "# Initialize an empty DataFrame to store Elo ratings\n",
    "elo_df = pd.DataFrame()\n",
    "\n",
    "# Define team names\n",
    "team_names = ['Real Madrid',\n",
    "'Barcelona',\n",
    "'Atlético',\n",
    "'Girona',\n",
    "'Sociedad',\n",
    "'Bilbao',\n",
    "'Villarreal',\n",
    "'Betis',\n",
    "'Sevilla',\n",
    "'Valencia',\n",
    "'Getafe',\n",
    "'Celta',\n",
    "'Alavés',\n",
    "'Mallorca',\n",
    "'Osasuna',\n",
    "'Rayo Vallecano',\n",
    "'Valladolid',\n",
    "'Cadiz',\n",
    "'Las Palmas',\n",
    "'Espanyol',\n",
    "'Elche', \n",
    "'Granada',\n",
    "'Levante',\n",
    "'Huesca', \n",
    "'Eibar', \n",
    "'Leganes']  # Example team names\n",
    "\n",
    "# Iterate through team names\n",
    "for team_name in team_names:\n",
    "    # Read Elo rating history for the current team\n",
    "    team_elo_history = elo.read_team_history(team_name)\n",
    "    team_elo_df = pd.DataFrame(team_elo_history)\n",
    "    \n",
    "    # Convert 'to' column to datetime if it's not already in datetime format\n",
    "    team_elo_df['to'] = pd.to_datetime(team_elo_df['to'])\n",
    "    \n",
    "    # Filter the DataFrame for the current team\n",
    "    filtered_team_elo_df = team_elo_df[(team_elo_df['to'] >= '2019-08-01') & (team_elo_df['to'] <= '2024-05-12')]\n",
    "    \n",
    "    # Append filtered Elo rating history to elo_df\n",
    "    elo_df = pd.concat([elo_df, filtered_team_elo_df], ignore_index=True)\n",
    "\n",
    "# Display or use the final DataFrame elo_df as needed\n",
    "print(elo_df)\n"
   ]
  },
  {
   "cell_type": "code",
   "execution_count": 14,
   "id": "47f814c5-32c1-482d-ae7b-435d34c7dc2d",
   "metadata": {},
   "outputs": [],
   "source": [
    "elo_df.to_csv(\"team_elo.csv\")"
   ]
  }
 ],
 "metadata": {
  "kernelspec": {
   "display_name": "Python 3 (ipykernel)",
   "language": "python",
   "name": "python3"
  },
  "language_info": {
   "codemirror_mode": {
    "name": "ipython",
    "version": 3
   },
   "file_extension": ".py",
   "mimetype": "text/x-python",
   "name": "python",
   "nbconvert_exporter": "python",
   "pygments_lexer": "ipython3",
   "version": "3.12.2"
  }
 },
 "nbformat": 4,
 "nbformat_minor": 5
}
