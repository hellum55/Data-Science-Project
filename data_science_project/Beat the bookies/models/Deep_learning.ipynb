{
 "cells": [
  {
   "cell_type": "code",
   "execution_count": null,
   "metadata": {},
   "outputs": [],
   "source": [
    "import pandas as pd\n",
    "import numpy as np\n",
    "pred_df = pd.read_csv(\"/Users/christianhellum/Cand. Merc./Data-Science-Project/data_science_project/Beat the bookies/data/df_preprocessed.csv\", index_col=0)"
   ]
  },
  {
   "cell_type": "code",
   "execution_count": null,
   "metadata": {},
   "outputs": [],
   "source": [
    "from sklearn.model_selection import train_test_split\n",
    "from sklearn.linear_model import LogisticRegression\n",
    "from sklearn.preprocessing import StandardScaler\n",
    "from sklearn.metrics import accuracy_score, confusion_matrix\n",
    "\n",
    "X = pred_df.drop(['FTR', 'Date', ], 1)\n",
    "Y = pred_df['FTR']\n",
    "\n",
    "X_test = pred_df.drop(['FTR', 'Date', ], 1)\n",
    "y_test = pred_df['FTR']"
   ]
  },
  {
   "cell_type": "code",
   "execution_count": null,
   "metadata": {},
   "outputs": [],
   "source": [
    "import keras\n",
    "from keras.layers import Dense, Dropout, BatchNormalization\n",
    "from keras.callbacks import EarlyStopping\n",
    "import tensorflow as tf\n",
    "import matplotlib.pyplot as plt\n",
    "import os"
   ]
  },
  {
   "cell_type": "code",
   "execution_count": null,
   "metadata": {},
   "outputs": [],
   "source": [
    "def transform_results(results):\n",
    "    transformed = []\n",
    "    for i in range(len(results)):\n",
    "        if results[i] == 'H':\n",
    "            transformed.append(0)\n",
    "        elif results[i] == 'A':\n",
    "            transformed.append(2)\n",
    "        else:\n",
    "            transformed.append(1)\n",
    "    return np.array(transformed)\n",
    "            \n",
    "Y = transform_results(Y)\n",
    "y_test = transform_results(y_test)"
   ]
  },
  {
   "cell_type": "code",
   "execution_count": null,
   "metadata": {},
   "outputs": [],
   "source": [
    "scaler = StandardScaler()\n",
    "\n",
    "X = scaler.fit_transform(X)\n",
    "X_test_scaled = scaler.fit_transform(X_test)"
   ]
  },
  {
   "cell_type": "code",
   "execution_count": null,
   "metadata": {},
   "outputs": [],
   "source": [
    "X_train_scaled = X[:-160]\n",
    "y_train = Y[:-160]\n",
    "X_test_scaled = X[-160:]\n",
    "y_test = y_test[-160:]"
   ]
  },
  {
   "cell_type": "code",
   "execution_count": null,
   "metadata": {},
   "outputs": [],
   "source": [
    "print('Number of matches in training data:', X_train_scaled.shape[0])\n",
    "print('Number of matches in test data:', X_test_scaled.shape[0])\n",
    "print('Number of features:', X_train_scaled.shape[1])"
   ]
  },
  {
   "cell_type": "code",
   "execution_count": null,
   "metadata": {},
   "outputs": [],
   "source": [
    "# input dimension is number of features\n",
    "input_dim = X_train_scaled.shape[1]\n",
    "\n",
    "activation_func = 'relu'\n",
    "kernel_init = 'glorot_normal'\n",
    "batch_size = 32\n",
    "\n",
    "model = keras.Sequential([\n",
    "    Dense(48, input_shape=(input_dim,), activation=activation_func),\n",
    "    Dropout(0.3),\n",
    "    Dense(16),\n",
    "    Dropout(0.7),\n",
    "    Dense(3, activation='softmax')\n",
    "])"
   ]
  },
  {
   "cell_type": "code",
   "execution_count": null,
   "metadata": {},
   "outputs": [],
   "source": [
    "from keras.optimizers import Adam, SGD"
   ]
  },
  {
   "cell_type": "code",
   "execution_count": null,
   "metadata": {},
   "outputs": [],
   "source": [
    "es = EarlyStopping(monitor='loss', patience=3, verbose=1)\n",
    "\n",
    "learning_rate = 0.001\n",
    "\n",
    "\n",
    "opt = Adam(learning_rate=learning_rate, beta_1=0.9, beta_2=0.999, epsilon=1e-08, decay=0.0)\n",
    "\n",
    "# Compile your model with the optimizer\n",
    "model.compile(optimizer=opt, loss='sparse_categorical_crossentropy', metrics=['accuracy'])\n",
    "\n",
    "model.fit(X_train_scaled, y_train, batch_size=batch_size, callbacks=[es], epochs=500, verbose=0)"
   ]
  },
  {
   "cell_type": "code",
   "execution_count": null,
   "metadata": {},
   "outputs": [],
   "source": [
    "train_loss, train_acc = model.evaluate(X_train_scaled, y_train)\n",
    "test_loss, test_acc = model.evaluate(X_test_scaled, y_test)\n",
    "print('Training loss:', train_loss)\n",
    "print('Training accuracy:', train_acc)\n",
    "print('Test loss:', test_loss)\n",
    "print('Test accuracy:', test_acc)"
   ]
  },
  {
   "cell_type": "code",
   "execution_count": null,
   "metadata": {},
   "outputs": [],
   "source": [
    "from sklearn.metrics import accuracy_score, classification_report, confusion_matrix\n",
    "y_preds = model.predict(X_test_scaled)\n",
    "y_pred_argmax = [np.argmax(i) for i in y_preds]\n",
    "print(classification_report(y_test, y_pred_argmax))"
   ]
  },
  {
   "cell_type": "code",
   "execution_count": null,
   "metadata": {},
   "outputs": [],
   "source": [
    "funds = 100\n",
    "wager = 10\n",
    "favourites = 0\n",
    "no_bets = 0\n",
    "min_diff = 0.03\n",
    "\n",
    "y_preds = model.predict(X_test_scaled)\n",
    "\n",
    "for i in range(len(X_test_scaled)):\n",
    "    prediction = np.argmax(y_preds[i])\n",
    "    print('\\nPrediction', prediction)\n",
    "    print('Actual', y_test[i])\n",
    "    print('Favourite', np.argmin([X_test['B365H'][i], X_test['B365D'][i], \n",
    "                                  X_test['B365A'][i]]))\n",
    "    print('Prediction proba', y_preds[i])\n",
    "    print('Home, Draw and Away odds', X_test['B365H'][i],       \n",
    "          X_test['B365D'][i], X_test['B365A'][i])\n",
    "    \n",
    "    if prediction == 0:\n",
    "        odds_diff = y_preds[i][prediction] - (1/X_test['B365H'][i])\n",
    "        if odds_diff > min_diff:\n",
    "            if prediction == np.argmin([X_test['B365H'][i], X_test['B365D'][i], \n",
    "                                  X_test['B365A'][i]]):\n",
    "                favourites +=1\n",
    "                \n",
    "            if  prediction == y_test[i]:\n",
    "                funds += (wager * X_test['B365H'][i]) - wager\n",
    "            else:\n",
    "                funds -= wager\n",
    "        else:\n",
    "            no_bets +=1\n",
    "            \n",
    "    elif prediction == 1:\n",
    "        odds_diff = y_preds[i][prediction] - (1/X_test['B365D'][i])\n",
    "        if odds_diff > min_diff:\n",
    "            if prediction == np.argmin([X_test['B365H'][i], X_test['B365D'][i], \n",
    "                                  X_test['B365A'][i]]):\n",
    "                favourites +=1\n",
    "            if  prediction == y_test[i]:\n",
    "                funds +=( wager * X_test['B365D'][i]) - wager\n",
    "            else:\n",
    "                funds -= wager\n",
    "        else:\n",
    "            no_bets +=1\n",
    "    else:\n",
    "        odds_diff = y_preds[i][prediction] - (1/X_test['B365A'][i])\n",
    "        if odds_diff >  min_diff:\n",
    "            if prediction == np.argmin([X_test['B365H'][i], X_test['B365D'][i], \n",
    "                                  X_test['B365A'][i]]):\n",
    "                favourites +=1\n",
    "            if  prediction == y_test[i]:\n",
    "                funds += (wager * X_test['B365A'][i]) - wager\n",
    "            else:\n",
    "                funds -= wager\n",
    "        else:\n",
    "            no_bets +=1\n",
    "   \n",
    "    print('Funds', funds)\n",
    "    \n",
    "print(f'Betted on favourite {favourites} times out of {len(X_test)} matches.')\n",
    "print(f'No bet placed {no_bets} times')"
   ]
  },
  {
   "cell_type": "code",
   "execution_count": null,
   "metadata": {},
   "outputs": [],
   "source": []
  },
  {
   "cell_type": "code",
   "execution_count": null,
   "metadata": {},
   "outputs": [],
   "source": []
  },
  {
   "cell_type": "code",
   "execution_count": null,
   "metadata": {},
   "outputs": [],
   "source": []
  }
 ],
 "metadata": {
  "language_info": {
   "name": "python"
  }
 },
 "nbformat": 4,
 "nbformat_minor": 2
}
