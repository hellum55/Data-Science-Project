{
 "cells": [
  {
   "cell_type": "code",
   "execution_count": 2,
   "metadata": {},
   "outputs": [],
   "source": [
    "import pandas as pd\n",
    "import numpy as np\n",
    "pred_df = pd.read_csv(\"/Users/christianhellum/Cand. Merc./Data-Science-Project/data_science_project/Beat the bookies/data/df_preprocessed.csv\", index_col=0)"
   ]
  },
  {
   "cell_type": "code",
   "execution_count": 3,
   "metadata": {},
   "outputs": [],
   "source": [
    "from sklearn.model_selection import train_test_split\n",
    "from sklearn.linear_model import LogisticRegression\n",
    "from sklearn.preprocessing import StandardScaler\n",
    "from sklearn.metrics import accuracy_score, confusion_matrix\n",
    "\n",
    "X = pred_df.drop(['FTR', 'Date'], axis=1)\n",
    "Y = pred_df['FTR']\n",
    "\n",
    "X_test = pred_df.drop(['FTR', 'Date'], axis=1)\n",
    "y_test = pred_df['FTR']"
   ]
  },
  {
   "cell_type": "code",
   "execution_count": 4,
   "metadata": {},
   "outputs": [
    {
     "name": "stderr",
     "output_type": "stream",
     "text": [
      "2024-06-18 08:33:18.690408: I tensorflow/core/platform/cpu_feature_guard.cc:210] This TensorFlow binary is optimized to use available CPU instructions in performance-critical operations.\n",
      "To enable the following instructions: AVX2 FMA, in other operations, rebuild TensorFlow with the appropriate compiler flags.\n"
     ]
    }
   ],
   "source": [
    "import keras\n",
    "from keras.layers import Dense, Dropout, BatchNormalization\n",
    "from keras.callbacks import EarlyStopping\n",
    "import tensorflow as tf\n",
    "import matplotlib.pyplot as plt\n",
    "import os"
   ]
  },
  {
   "cell_type": "code",
   "execution_count": 5,
   "metadata": {},
   "outputs": [],
   "source": [
    "def transform_results(results):\n",
    "    transformed = []\n",
    "    for i in range(len(results)):\n",
    "        if results[i] == 'H':\n",
    "            transformed.append(0)\n",
    "        elif results[i] == 'A':\n",
    "            transformed.append(2)\n",
    "        else:\n",
    "            transformed.append(1)\n",
    "    return np.array(transformed)\n",
    "            \n",
    "Y = transform_results(Y)\n",
    "y_test = transform_results(y_test)"
   ]
  },
  {
   "cell_type": "code",
   "execution_count": 6,
   "metadata": {},
   "outputs": [],
   "source": [
    "scaler = StandardScaler()\n",
    "\n",
    "X = scaler.fit_transform(X)\n",
    "X_test_scaled = scaler.fit_transform(X_test)"
   ]
  },
  {
   "cell_type": "code",
   "execution_count": 7,
   "metadata": {},
   "outputs": [],
   "source": [
    "X_train_scaled = X[:-160]\n",
    "y_train = Y[:-160]\n",
    "X_test_scaled = X[-160:]\n",
    "y_test = y_test[-160:]"
   ]
  },
  {
   "cell_type": "code",
   "execution_count": 8,
   "metadata": {},
   "outputs": [
    {
     "name": "stdout",
     "output_type": "stream",
     "text": [
      "Number of matches in training data: 1700\n",
      "Number of matches in test data: 160\n",
      "Number of features: 33\n"
     ]
    }
   ],
   "source": [
    "print('Number of matches in training data:', X_train_scaled.shape[0])\n",
    "print('Number of matches in test data:', X_test_scaled.shape[0])\n",
    "print('Number of features:', X_train_scaled.shape[1])"
   ]
  },
  {
   "cell_type": "code",
   "execution_count": 29,
   "metadata": {},
   "outputs": [
    {
     "name": "stderr",
     "output_type": "stream",
     "text": [
      "/Users/christianhellum/Library/Caches/pypoetry/virtualenvs/data-science-project-PFmYB0_u-py3.12/lib/python3.12/site-packages/keras/src/layers/core/dense.py:87: UserWarning: Do not pass an `input_shape`/`input_dim` argument to a layer. When using Sequential models, prefer using an `Input(shape)` object as the first layer in the model instead.\n",
      "  super().__init__(activity_regularizer=activity_regularizer, **kwargs)\n"
     ]
    }
   ],
   "source": [
    "# input dimension is number of features\n",
    "input_dim = X_train_scaled.shape[1]\n",
    "\n",
    "activation_func = 'relu'\n",
    "kernel_init = 'glorot_normal'\n",
    "batch_size = 4\n",
    "\n",
    "model = keras.Sequential([\n",
    "    Dense(64, input_shape=(input_dim,), activation=activation_func),\n",
    "    Dropout(0.3),\n",
    "    Dense(32),\n",
    "    Dropout(0.7),\n",
    "    Dense(16),\n",
    "    Dense(3, activation='softmax')\n",
    "])"
   ]
  },
  {
   "cell_type": "code",
   "execution_count": 23,
   "metadata": {},
   "outputs": [],
   "source": [
    "from keras.optimizers import Adam, SGD"
   ]
  },
  {
   "cell_type": "code",
   "execution_count": 30,
   "metadata": {},
   "outputs": [
    {
     "name": "stdout",
     "output_type": "stream",
     "text": [
      "Epoch 8: early stopping\n"
     ]
    },
    {
     "data": {
      "text/plain": [
       "<keras.src.callbacks.history.History at 0x13f2f84d0>"
      ]
     },
     "execution_count": 30,
     "metadata": {},
     "output_type": "execute_result"
    }
   ],
   "source": [
    "es = EarlyStopping(monitor='loss', patience=3, verbose=1)\n",
    "\n",
    "learning_rate = 0.001\n",
    "\n",
    "\n",
    "opt = Adam(learning_rate=learning_rate)\n",
    "\n",
    "# Compile your model with the optimizer\n",
    "model.compile(optimizer=opt, loss='sparse_categorical_crossentropy', metrics=['accuracy'])\n",
    "\n",
    "model.fit(X_train_scaled, y_train, batch_size=batch_size, callbacks=[es], epochs=500, verbose=0)"
   ]
  },
  {
   "cell_type": "code",
   "execution_count": 31,
   "metadata": {},
   "outputs": [
    {
     "name": "stdout",
     "output_type": "stream",
     "text": [
      "\u001b[1m54/54\u001b[0m \u001b[32m━━━━━━━━━━━━━━━━━━━━\u001b[0m\u001b[37m\u001b[0m \u001b[1m0s\u001b[0m 1ms/step - accuracy: 0.5277 - loss: 0.9680\n",
      "\u001b[1m5/5\u001b[0m \u001b[32m━━━━━━━━━━━━━━━━━━━━\u001b[0m\u001b[37m\u001b[0m \u001b[1m0s\u001b[0m 2ms/step - accuracy: 0.5423 - loss: 0.9829 \n",
      "Training loss: 0.9627589583396912\n",
      "Training accuracy: 0.5394117832183838\n",
      "Test loss: 0.9665796160697937\n",
      "Test accuracy: 0.550000011920929\n"
     ]
    }
   ],
   "source": [
    "train_loss, train_acc = model.evaluate(X_train_scaled, y_train)\n",
    "test_loss, test_acc = model.evaluate(X_test_scaled, y_test)\n",
    "print('Training loss:', train_loss)\n",
    "print('Training accuracy:', train_acc)\n",
    "print('Test loss:', test_loss)\n",
    "print('Test accuracy:', test_acc)"
   ]
  },
  {
   "cell_type": "code",
   "execution_count": 13,
   "metadata": {},
   "outputs": [
    {
     "name": "stdout",
     "output_type": "stream",
     "text": [
      "\u001b[1m5/5\u001b[0m \u001b[32m━━━━━━━━━━━━━━━━━━━━\u001b[0m\u001b[37m\u001b[0m \u001b[1m0s\u001b[0m 1ms/step \n",
      "              precision    recall  f1-score   support\n",
      "\n",
      "           0       0.56      0.92      0.69        73\n",
      "           1       0.00      0.00      0.00        38\n",
      "           2       0.65      0.53      0.58        49\n",
      "\n",
      "    accuracy                           0.58       160\n",
      "   macro avg       0.40      0.48      0.43       160\n",
      "weighted avg       0.45      0.58      0.50       160\n",
      "\n"
     ]
    },
    {
     "name": "stderr",
     "output_type": "stream",
     "text": [
      "/Users/christianhellum/Library/Caches/pypoetry/virtualenvs/data-science-project-PFmYB0_u-py3.12/lib/python3.12/site-packages/sklearn/metrics/_classification.py:1509: UndefinedMetricWarning: Precision is ill-defined and being set to 0.0 in labels with no predicted samples. Use `zero_division` parameter to control this behavior.\n",
      "  _warn_prf(average, modifier, f\"{metric.capitalize()} is\", len(result))\n",
      "/Users/christianhellum/Library/Caches/pypoetry/virtualenvs/data-science-project-PFmYB0_u-py3.12/lib/python3.12/site-packages/sklearn/metrics/_classification.py:1509: UndefinedMetricWarning: Precision is ill-defined and being set to 0.0 in labels with no predicted samples. Use `zero_division` parameter to control this behavior.\n",
      "  _warn_prf(average, modifier, f\"{metric.capitalize()} is\", len(result))\n",
      "/Users/christianhellum/Library/Caches/pypoetry/virtualenvs/data-science-project-PFmYB0_u-py3.12/lib/python3.12/site-packages/sklearn/metrics/_classification.py:1509: UndefinedMetricWarning: Precision is ill-defined and being set to 0.0 in labels with no predicted samples. Use `zero_division` parameter to control this behavior.\n",
      "  _warn_prf(average, modifier, f\"{metric.capitalize()} is\", len(result))\n"
     ]
    }
   ],
   "source": [
    "from sklearn.metrics import accuracy_score, classification_report, confusion_matrix\n",
    "y_preds = model.predict(X_test_scaled)\n",
    "y_pred_argmax = [np.argmax(i) for i in y_preds]\n",
    "print(classification_report(y_test, y_pred_argmax))"
   ]
  },
  {
   "cell_type": "code",
   "execution_count": null,
   "metadata": {},
   "outputs": [],
   "source": [
    "funds = 100\n",
    "wager = 10\n",
    "favourites = 0\n",
    "no_bets = 0\n",
    "min_diff = 0.03\n",
    "\n",
    "y_preds = model.predict(X_test_scaled)\n",
    "\n",
    "for i in range(len(X_test_scaled)):\n",
    "    prediction = np.argmax(y_preds[i])\n",
    "    print('\\nPrediction', prediction)\n",
    "    print('Actual', y_test[i])\n",
    "    print('Favourite', np.argmin([X_test['B365H'][i], X_test['B365D'][i], \n",
    "                                  X_test['B365A'][i]]))\n",
    "    print('Prediction proba', y_preds[i])\n",
    "    print('Home, Draw and Away odds', X_test['B365H'][i],       \n",
    "          X_test['B365D'][i], X_test['B365A'][i])\n",
    "    \n",
    "    if prediction == 0:\n",
    "        odds_diff = y_preds[i][prediction] - (1/X_test['B365H'][i])\n",
    "        if odds_diff > min_diff:\n",
    "            if prediction == np.argmin([X_test['B365H'][i], X_test['B365D'][i], \n",
    "                                  X_test['B365A'][i]]):\n",
    "                favourites +=1\n",
    "                \n",
    "            if  prediction == y_test[i]:\n",
    "                funds += (wager * X_test['B365H'][i]) - wager\n",
    "            else:\n",
    "                funds -= wager\n",
    "        else:\n",
    "            no_bets +=1\n",
    "            \n",
    "    elif prediction == 1:\n",
    "        odds_diff = y_preds[i][prediction] - (1/X_test['B365D'][i])\n",
    "        if odds_diff > min_diff:\n",
    "            if prediction == np.argmin([X_test['B365H'][i], X_test['B365D'][i], \n",
    "                                  X_test['B365A'][i]]):\n",
    "                favourites +=1\n",
    "            if  prediction == y_test[i]:\n",
    "                funds +=( wager * X_test['B365D'][i]) - wager\n",
    "            else:\n",
    "                funds -= wager\n",
    "        else:\n",
    "            no_bets +=1\n",
    "    else:\n",
    "        odds_diff = y_preds[i][prediction] - (1/X_test['B365A'][i])\n",
    "        if odds_diff >  min_diff:\n",
    "            if prediction == np.argmin([X_test['B365H'][i], X_test['B365D'][i], \n",
    "                                  X_test['B365A'][i]]):\n",
    "                favourites +=1\n",
    "            if  prediction == y_test[i]:\n",
    "                funds += (wager * X_test['B365A'][i]) - wager\n",
    "            else:\n",
    "                funds -= wager\n",
    "        else:\n",
    "            no_bets +=1\n",
    "   \n",
    "    print('Funds', funds)\n",
    "    \n",
    "print(f'Betted on favourite {favourites} times out of {len(X_test)} matches.')\n",
    "print(f'No bet placed {no_bets} times')"
   ]
  }
 ],
 "metadata": {
  "kernelspec": {
   "display_name": "data-science-project-VmJyb5kE-py3.11",
   "language": "python",
   "name": "python3"
  },
  "language_info": {
   "codemirror_mode": {
    "name": "ipython",
    "version": 3
   },
   "file_extension": ".py",
   "mimetype": "text/x-python",
   "name": "python",
   "nbconvert_exporter": "python",
   "pygments_lexer": "ipython3",
   "version": "3.12.2"
  }
 },
 "nbformat": 4,
 "nbformat_minor": 2
}
