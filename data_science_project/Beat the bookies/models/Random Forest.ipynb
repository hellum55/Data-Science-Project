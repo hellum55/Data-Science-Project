{
 "cells": [
  {
   "cell_type": "code",
   "execution_count": null,
   "metadata": {},
   "outputs": [],
   "source": [
    "import pandas as pd\n",
    "import numpy as np\n",
    "from sklearn.ensemble import RandomForestClassifier\n",
    "from sklearn.preprocessing import StandardScaler\n",
    "from sklearn.metrics import accuracy_score, confusion_matrix, classification_report\n",
    "from sklearn.model_selection import TimeSeriesSplit, GridSearchCV"
   ]
  },
  {
   "cell_type": "code",
   "execution_count": null,
   "metadata": {},
   "outputs": [],
   "source": [
    "# Load and prepare the data\n",
    "pred_df = pd.read_csv(\"/Users/christianhellum/Cand. Merc./Data-Science-Project/data_science_project/Beat the bookies/data/df_preprocessed.csv\", index_col=0)\n",
    "pred_df.columns"
   ]
  },
  {
   "cell_type": "code",
   "execution_count": null,
   "metadata": {},
   "outputs": [],
   "source": [
    "pred_df"
   ]
  },
  {
   "cell_type": "code",
   "execution_count": null,
   "metadata": {},
   "outputs": [],
   "source": [
    "pred_df['Home'] = pred_df['Home'].astype('category')\n",
    "pred_df['Away'] = pred_df['Away'].astype('category')\n",
    "pred_df['FTR'] = pred_df['FTR'].astype('category')\n",
    "\n",
    "# Ensure 'Date' is in datetime format\n",
    "pred_df['Date'] = pd.to_datetime(pred_df['Date'])\n",
    "\n",
    "# Split data into train and test sets\n",
    "train = pred_df[pred_df['Date'] < '2024-01-01']\n",
    "test = pred_df[pred_df['Date'] >= '2024-01-01']\n",
    "\n",
    "# Define predictors and target for train and test sets\n",
    "X_train = train[['Home', 'Away', 'Attendance', 'B365H', 'B365D', 'B365A',\n",
    "       'AttackStrengthHome', 'AttackStrengthAway', 'DefenseWeaknessHome',\n",
    "       'DefenseWeaknessAway', 'AvgHomePoints', 'AvgAwayPoints',\n",
    "       'AvgLosingHomePoints', 'AvgLosingAwayPoints', 'AvgGoalDiffHome',\n",
    "       'AvgGoalDiffAway', 'HomeWinsRatio', 'HomeDrawsRatio', 'AwayWinsRatio',\n",
    "       'AwayDrawsRatio', 'AvgHomeCornersLast5', 'AvgAwayCornersLast5',\n",
    "       'AvgHomeShotsLast5', 'AvgHomeShotsOnTargetLast5', 'AvgAwayShotsLast5',\n",
    "       'AvgAwayShotsOnTargetLast5', 'elo', 'elo_away', 'FormHomeTeam',\n",
    "       'FormAwayTeam', 'ProbabilityDraw', 'ProbabilityHomeWin',\n",
    "       'ProbabilityAwayWin']]\n",
    "y_train = train['FTR']\n",
    "X_test = test[X_train.columns]\n",
    "y_test = test['FTR']\n",
    "\n",
    "# Standardize the data\n",
    "scaler = StandardScaler()\n",
    "X_train_scaled = scaler.fit_transform(X_train)\n",
    "X_test_scaled = scaler.transform(X_test)"
   ]
  },
  {
   "cell_type": "code",
   "execution_count": null,
   "metadata": {},
   "outputs": [],
   "source": [
    "# Define the parameter grid with stricter regularization\n",
    "param_grid = {\n",
    "    'n_estimators': [50, 500],  # Use fewer estimators to reduce complexity\n",
    "    'max_depth': [5, 10, 15],\n",
    "    'max_features': ['sqrt', 'log2']  # Limit the number of features considered for splitting at each node\n",
    "}\n",
    "\n",
    "# Initialize TimeSeriesSplit\n",
    "tscv = TimeSeriesSplit(n_splits=5)\n",
    "\n",
    "# Initialize RandomForestClassifier\n",
    "rf_model = RandomForestClassifier(random_state=0)\n",
    "\n",
    "# Initialize GridSearchCV with TimeSeriesSplit on training set only\n",
    "grid_search = GridSearchCV(estimator=rf_model, param_grid=param_grid, cv=tscv, n_jobs=-1, scoring='accuracy')\n",
    "grid_search.fit(X_train_scaled, y_train)\n",
    "\n",
    "# Get the best parameters\n",
    "best_params = grid_search.best_params_\n",
    "print(\"Best Parameters:\", best_params)\n",
    "\n",
    "# Get the best model\n",
    "best_rf_model = grid_search.best_estimator_"
   ]
  },
  {
   "cell_type": "code",
   "execution_count": null,
   "metadata": {},
   "outputs": [],
   "source": [
    "# Train the best model on the entire training set\n",
    "best_rf_model.fit(X_train_scaled, y_train)\n",
    "\n",
    "# Make predictions on training set\n",
    "y_train_pred = best_rf_model.predict(X_train_scaled)\n",
    "\n",
    "# Make predictions on test set\n",
    "y_test_pred = best_rf_model.predict(X_test_scaled)\n",
    "\n",
    "# Calculate accuracy\n",
    "train_accuracy = accuracy_score(y_train, y_train_pred)\n",
    "test_accuracy = accuracy_score(y_test, y_test_pred)\n",
    "\n",
    "# Print the accuracies\n",
    "print(f\"Training Accuracy with Best Random Forest: {train_accuracy:.4f}\")\n",
    "print(f\"Test Accuracy with Best Random Forest: {test_accuracy:.4f}\")\n",
    "\n",
    "# Print the confusion matrix\n",
    "print(\"Confusion Matrix - Training Set with Best Random Forest\")\n",
    "print(confusion_matrix(y_train, y_train_pred))\n",
    "\n",
    "print(\"Confusion Matrix - Test Set with Best Random Forest\")\n",
    "print(confusion_matrix(y_test, y_test_pred))\n",
    "\n",
    "# Print classification report\n",
    "print(\"Classification Report - Training Set with Best Random Forest\")\n",
    "print(classification_report(y_train, y_train_pred))\n",
    "\n",
    "print(\"Classification Report - Test Set with Best Random Forest\")\n",
    "print(classification_report(y_test, y_test_pred))"
   ]
  },
  {
   "cell_type": "code",
   "execution_count": null,
   "metadata": {},
   "outputs": [],
   "source": [
    "import matplotlib.pyplot as plt\n",
    "\n",
    "# Extract feature importances\n",
    "feature_importances = pd.Series(best_rf_model.feature_importances_, index=X_train.columns)\n",
    "\n",
    "# Plot feature importances\n",
    "plt.figure(figsize=(10, 6))\n",
    "feature_importances.sort_values(ascending=False).plot(kind='bar')\n",
    "plt.title('Feature Importances')\n",
    "plt.show()"
   ]
  },
  {
   "cell_type": "code",
   "execution_count": null,
   "metadata": {},
   "outputs": [],
   "source": [
    "# Count the number of occurrences for each class in actual and predicted values\n",
    "actual_counts = y_test.value_counts().sort_index()\n",
    "predicted_counts = pd.Series(y_test_pred).value_counts().sort_index()\n",
    "\n",
    "# Create a DataFrame for comparison\n",
    "comparison_df = pd.DataFrame({'Actual': actual_counts, 'Predicted': predicted_counts}).fillna(0)\n",
    "\n",
    "# Plot the comparison\n",
    "comparison_df.plot(kind='bar', figsize=(10, 6))\n",
    "plt.xlabel('Class')\n",
    "plt.ylabel('Count')\n",
    "plt.title('Comparison of Actual and Predicted Counts')\n",
    "plt.show()"
   ]
  },
  {
   "cell_type": "code",
   "execution_count": null,
   "metadata": {},
   "outputs": [],
   "source": []
  },
  {
   "cell_type": "code",
   "execution_count": null,
   "metadata": {},
   "outputs": [],
   "source": []
  }
 ],
 "metadata": {
  "language_info": {
   "name": "python"
  }
 },
 "nbformat": 4,
 "nbformat_minor": 2
}
