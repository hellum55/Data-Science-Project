{
 "cells": [
  {
   "cell_type": "code",
   "execution_count": null,
   "metadata": {},
   "outputs": [],
   "source": [
    "import pandas as pd\n",
    "import numpy as np\n",
    "\n",
    "pred_df = pd.read_csv(\"/Users/christianhellum/Cand. Merc./Data-Science-Project/data_science_project/Beat the bookies/data/df_preprocessed.csv\", index_col=0)"
   ]
  },
  {
   "cell_type": "code",
   "execution_count": null,
   "metadata": {},
   "outputs": [],
   "source": [
    "import pandas as pd\n",
    "from sklearn.model_selection import train_test_split\n",
    "from sklearn.linear_model import LogisticRegression\n",
    "from sklearn.preprocessing import StandardScaler\n",
    "from sklearn.metrics import accuracy_score, confusion_matrix\n",
    "\n",
    "# Load and prepare the data\n",
    "pred_df['Home'] = pred_df['Home'].astype('category')\n",
    "pred_df['Away'] = pred_df['Away'].astype('category')\n",
    "pred_df['FTR'] = pred_df['FTR'].astype('category')\n",
    "\n",
    "# Ensure 'date' is in datetime format\n",
    "# pred['date'] = pd.to_datetime(pred['Date'])\n",
    "\n",
    "# Split data into train and test sets\n",
    "train = pred_df[pred_df['Date'] < '2024-01-01']\n",
    "test = pred_df[pred_df['Date'] >= '2024-01-01']\n",
    "\n",
    "# Define predictors and target\n",
    "X_train = train[['Home', 'Away', 'Attendance', 'B365H', 'B365D', 'B365A',\n",
    "       'AttackStrengthHome', 'AttackStrengthAway', 'DefenseWeaknessHome',\n",
    "       'DefenseWeaknessAway', 'AvgHomePoints', 'AvgAwayPoints',\n",
    "       'AvgLosingHomePoints', 'AvgLosingAwayPoints', 'AvgGoalDiffHome',\n",
    "       'AvgGoalDiffAway', 'HomeWinsRatio', 'HomeDrawsRatio', 'AwayWinsRatio',\n",
    "       'AwayDrawsRatio', 'AvgHomeCornersLast5', 'AvgAwayCornersLast5',\n",
    "       'AvgHomeShotsLast5', 'AvgHomeShotsOnTargetLast5', 'AvgAwayShotsLast5',\n",
    "       'AvgAwayShotsOnTargetLast5', 'elo', 'elo_away', 'FormHomeTeam',\n",
    "       'FormAwayTeam', 'ProbabilityDraw', 'ProbabilityHomeWin',\n",
    "       'ProbabilityAwayWin']]\n",
    "\n",
    "y_train = train['FTR']\n",
    "X_test = test[X_train.columns]\n",
    "y_test = test['FTR']\n",
    "\n",
    "# Standardize the data\n",
    "scaler = StandardScaler()\n",
    "X_train_scaled = scaler.fit_transform(X_train)\n",
    "X_test_scaled = scaler.transform(X_test)\n",
    "\n",
    "# Convert back to DataFrame to keep column labels\n",
    "X_train = pd.DataFrame(X_train_scaled, columns=X_train.columns)\n",
    "X_test = pd.DataFrame(X_test_scaled, columns=X_test.columns)"
   ]
  },
  {
   "cell_type": "code",
   "execution_count": null,
   "metadata": {},
   "outputs": [],
   "source": [
    "# Train the logistic regression model\n",
    "model = LogisticRegression(multi_class='multinomial', solver='lbfgs', max_iter=1000)\n",
    "model.fit(X_train, y_train)\n",
    "\n",
    "# Make predictions\n",
    "y_train_pred = model.predict(X_train)\n",
    "y_test_pred = model.predict(X_test)\n",
    "\n",
    "# Calculate accuracy\n",
    "train_accuracy = accuracy_score(y_train, y_train_pred)\n",
    "test_accuracy = accuracy_score(y_test, y_test_pred)\n",
    "\n",
    "print(f\"Training Accuracy: {train_accuracy:.4f}\")\n",
    "print(f\"Test Accuracy: {test_accuracy:.4f}\")\n",
    "\n",
    "print(\"Confusion Matrix - Training Set\")\n",
    "print(confusion_matrix(y_train, y_train_pred))\n",
    "\n",
    "print(\"Confusion Matrix - Test Set\")\n",
    "print(confusion_matrix(y_test, y_test_pred))"
   ]
  },
  {
   "cell_type": "code",
   "execution_count": null,
   "metadata": {},
   "outputs": [],
   "source": [
    "import seaborn as sns\n",
    "import matplotlib.pyplot as plt\n",
    "from sklearn.metrics import confusion_matrix, classification_report\n",
    "\n",
    "# Calculate the confusion matrix\n",
    "conf_matrix = confusion_matrix(y_test, y_test_pred)\n",
    "\n",
    "# Plot the confusion matrix as a heatmap\n",
    "plt.figure(figsize=(8, 6))\n",
    "sns.heatmap(conf_matrix, annot=True, fmt='d', cmap='Blues', xticklabels=model.classes_, yticklabels=model.classes_)\n",
    "plt.xlabel('Predicted')\n",
    "plt.ylabel('Actual')\n",
    "plt.title('Confusion Matrix Heatmap')\n",
    "plt.show()"
   ]
  },
  {
   "cell_type": "code",
   "execution_count": null,
   "metadata": {},
   "outputs": [],
   "source": [
    "# Count the number of occurrences for each class in actual and predicted values\n",
    "actual_counts = y_test.value_counts().sort_index()\n",
    "predicted_counts = pd.Series(y_test_pred).value_counts().sort_index()\n",
    "\n",
    "# Create a DataFrame for comparison\n",
    "comparison_df = pd.DataFrame({'Actual': actual_counts, 'Predicted': predicted_counts}).fillna(0)\n",
    "\n",
    "comparison_df.plot(kind='bar', figsize=(10, 6))\n",
    "plt.xlabel('Class')\n",
    "plt.ylabel('Count')\n",
    "plt.title('Comparison of Actual and Predicted Counts')\n",
    "plt.show()"
   ]
  }
 ],
 "metadata": {
  "language_info": {
   "name": "python"
  }
 },
 "nbformat": 4,
 "nbformat_minor": 2
}
