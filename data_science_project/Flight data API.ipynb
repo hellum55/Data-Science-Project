{
 "cells": [
  {
   "cell_type": "code",
   "execution_count": 1,
   "id": "f6aab674-c069-4276-86db-3338d5c520b5",
   "metadata": {},
   "outputs": [
    {
     "name": "stdout",
     "output_type": "stream",
     "text": [
      "Requirement already satisfied: requests in c:\\users\\christian\\appdata\\local\\pypoetry\\cache\\virtualenvs\\data-science-project-ziygbzbm-py3.11\\lib\\site-packages (2.31.0)\n",
      "Requirement already satisfied: charset-normalizer<4,>=2 in c:\\users\\christian\\appdata\\local\\pypoetry\\cache\\virtualenvs\\data-science-project-ziygbzbm-py3.11\\lib\\site-packages (from requests) (3.3.2)\n",
      "Requirement already satisfied: idna<4,>=2.5 in c:\\users\\christian\\appdata\\local\\pypoetry\\cache\\virtualenvs\\data-science-project-ziygbzbm-py3.11\\lib\\site-packages (from requests) (3.6)\n",
      "Requirement already satisfied: urllib3<3,>=1.21.1 in c:\\users\\christian\\appdata\\local\\pypoetry\\cache\\virtualenvs\\data-science-project-ziygbzbm-py3.11\\lib\\site-packages (from requests) (2.2.1)\n",
      "Requirement already satisfied: certifi>=2017.4.17 in c:\\users\\christian\\appdata\\local\\pypoetry\\cache\\virtualenvs\\data-science-project-ziygbzbm-py3.11\\lib\\site-packages (from requests) (2024.2.2)\n",
      "Note: you may need to restart the kernel to use updated packages.\n"
     ]
    }
   ],
   "source": [
    "pip install requests"
   ]
  },
  {
   "cell_type": "code",
   "execution_count": 2,
   "id": "6afb9574-a396-4c26-a431-c1dceb9499b4",
   "metadata": {},
   "outputs": [],
   "source": [
    "import requests # library for making HTTP requests\n",
    "import pandas as pd # library for data analysis\n",
    "import datetime as dt # library for handling date and time objects"
   ]
  },
  {
   "cell_type": "code",
   "execution_count": 18,
   "id": "c74f6214-ca98-4d71-aeb6-e638b1591f42",
   "metadata": {},
   "outputs": [],
   "source": [
    "my_dict = {}\n",
    "\n",
    "with open(r\"/Users/Christian/Documents/Cand. merc/Data-Science-Project/Data-Science-Project/data_science_project/.env_flight\", \"r\") as f:\n",
    "    for line in f:\n",
    "        key, val = line.split('=')\n",
    "        my_dict[key.strip()] = val.strip()"
   ]
  },
  {
   "cell_type": "code",
   "execution_count": 19,
   "id": "a88c0654-259c-483f-aaee-1c98f688ae64",
   "metadata": {},
   "outputs": [
    {
     "name": "stdout",
     "output_type": "stream",
     "text": [
      "{'X-Access-Token': 'c33be7fb8b49d500e631d7143c8ef4bf', 'X-RapidAPI-Key': 'c795ba9581msh07d0178516af21bp1d788bjsnd4de235dbca6', 'X-RapidAPI-Host': 'travelpayouts-travelpayouts-flight-data-v1.p.rapidapi.com'}\n"
     ]
    }
   ],
   "source": [
    "headers = my_dict\n",
    "print(headers)"
   ]
  },
  {
   "cell_type": "code",
   "execution_count": null,
   "id": "8e8dee40-c016-4694-94b6-35cfec017392",
   "metadata": {},
   "outputs": [],
   "source": []
  },
  {
   "cell_type": "code",
   "execution_count": 57,
   "id": "1209eec0-0f31-4277-9f2f-2856b5da1d7c",
   "metadata": {
    "scrolled": true
   },
   "outputs": [
    {
     "name": "stdout",
     "output_type": "stream",
     "text": [
      "{'currency': 'eur', 'error': '', 'data': [{'depart_date': '2025-04-01', 'origin': 'BLL', 'destination': 'ROM', 'gate': '', 'return_date': '2025-04-14', 'found_at': '2024-05-05T19:29:13', 'trip_class': 0, 'value': 237, 'number_of_changes': 1, 'duration': 1895, 'distance': 1567, 'show_to_affiliates': True, 'actual': True}, {'depart_date': '2024-05-25', 'origin': 'BLL', 'destination': 'ROM', 'gate': '', 'return_date': '2024-05-28', 'found_at': '2024-05-04T06:42:50', 'trip_class': 0, 'value': 240, 'number_of_changes': 1, 'duration': 2820, 'distance': 1567, 'show_to_affiliates': True, 'actual': True}, {'depart_date': '2024-12-29', 'origin': 'BLL', 'destination': 'ROM', 'gate': '', 'return_date': '2025-01-06', 'found_at': '2024-05-05T18:08:30', 'trip_class': 0, 'value': 248, 'number_of_changes': 1, 'duration': 2205, 'distance': 1567, 'show_to_affiliates': True, 'actual': True}], 'success': True}\n"
     ]
    }
   ],
   "source": [
    "url = \"https://travelpayouts-travelpayouts-flight-data-v1.p.rapidapi.com/v2/prices/latest\"\n",
    "\n",
    "querystring = {\"destination\":\"FCO\",\"origin\":\"BLL\",\"period_type\":\"year\",\"one_way\":\" back-to-back\",\"trip_class\":\"0\",\"currency\":\"EUR\",\"page\":\"1\",\"sorting\":\"price\",\"limit\":\"3\"}\n",
    "\n",
    "r = requests.get(url, headers=headers, params=querystring) # Issues a HTTP GET request\n",
    "r.url # `requests` help us encode the URL in the correct format\n",
    "\n",
    "print(r.json())"
   ]
  },
  {
   "cell_type": "code",
   "execution_count": 58,
   "id": "1d941721-49ac-456b-a738-a06402e7727a",
   "metadata": {},
   "outputs": [
    {
     "data": {
      "text/plain": [
       "200"
      ]
     },
     "execution_count": 58,
     "metadata": {},
     "output_type": "execute_result"
    }
   ],
   "source": [
    "r.status_code # 200 means success"
   ]
  },
  {
   "cell_type": "code",
   "execution_count": 59,
   "id": "7d5d6e42-71ad-44a7-9312-c557be88f2e8",
   "metadata": {},
   "outputs": [
    {
     "data": {
      "text/plain": [
       "{'currency': 'eur',\n",
       " 'error': '',\n",
       " 'data': [{'depart_date': '2025-04-01',\n",
       "   'origin': 'BLL',\n",
       "   'destination': 'ROM',\n",
       "   'gate': '',\n",
       "   'return_date': '2025-04-14',\n",
       "   'found_at': '2024-05-05T19:29:13',\n",
       "   'trip_class': 0,\n",
       "   'value': 237,\n",
       "   'number_of_changes': 1,\n",
       "   'duration': 1895,\n",
       "   'distance': 1567,\n",
       "   'show_to_affiliates': True,\n",
       "   'actual': True},\n",
       "  {'depart_date': '2024-05-25',\n",
       "   'origin': 'BLL',\n",
       "   'destination': 'ROM',\n",
       "   'gate': '',\n",
       "   'return_date': '2024-05-28',\n",
       "   'found_at': '2024-05-04T06:42:50',\n",
       "   'trip_class': 0,\n",
       "   'value': 240,\n",
       "   'number_of_changes': 1,\n",
       "   'duration': 2820,\n",
       "   'distance': 1567,\n",
       "   'show_to_affiliates': True,\n",
       "   'actual': True},\n",
       "  {'depart_date': '2024-12-29',\n",
       "   'origin': 'BLL',\n",
       "   'destination': 'ROM',\n",
       "   'gate': '',\n",
       "   'return_date': '2025-01-06',\n",
       "   'found_at': '2024-05-05T18:08:30',\n",
       "   'trip_class': 0,\n",
       "   'value': 248,\n",
       "   'number_of_changes': 1,\n",
       "   'duration': 2205,\n",
       "   'distance': 1567,\n",
       "   'show_to_affiliates': True,\n",
       "   'actual': True}],\n",
       " 'success': True}"
      ]
     },
     "execution_count": 59,
     "metadata": {},
     "output_type": "execute_result"
    }
   ],
   "source": [
    "flight = r.json()\n",
    "flight"
   ]
  },
  {
   "cell_type": "code",
   "execution_count": 60,
   "id": "2dd4bfd8-7842-4050-954b-b3d313af98cb",
   "metadata": {},
   "outputs": [
    {
     "name": "stdout",
     "output_type": "stream",
     "text": [
      "[{'depart_date': '2025-04-01', 'origin': 'BLL', 'destination': 'ROM', 'gate': '', 'return_date': '2025-04-14', 'found_at': '2024-05-05T19:29:13', 'trip_class': 0, 'value': 237, 'number_of_changes': 1, 'duration': 1895, 'distance': 1567, 'show_to_affiliates': True, 'actual': True}, {'depart_date': '2024-05-25', 'origin': 'BLL', 'destination': 'ROM', 'gate': '', 'return_date': '2024-05-28', 'found_at': '2024-05-04T06:42:50', 'trip_class': 0, 'value': 240, 'number_of_changes': 1, 'duration': 2820, 'distance': 1567, 'show_to_affiliates': True, 'actual': True}, {'depart_date': '2024-12-29', 'origin': 'BLL', 'destination': 'ROM', 'gate': '', 'return_date': '2025-01-06', 'found_at': '2024-05-05T18:08:30', 'trip_class': 0, 'value': 248, 'number_of_changes': 1, 'duration': 2205, 'distance': 1567, 'show_to_affiliates': True, 'actual': True}]\n"
     ]
    }
   ],
   "source": [
    "flight_labels = flight['data']\n",
    "print(flight_labels)"
   ]
  },
  {
   "cell_type": "code",
   "execution_count": 61,
   "id": "acfdb136-6cf9-4c6d-a99a-4319d2048f86",
   "metadata": {},
   "outputs": [
    {
     "name": "stdout",
     "output_type": "stream",
     "text": [
      "depart_date 2025-04-01\n",
      "origin BLL\n",
      "destination ROM\n",
      "gate \n",
      "return_date 2025-04-14\n",
      "found_at 2024-05-05T19:29:13\n",
      "trip_class 0\n",
      "value 237\n",
      "number_of_changes 1\n",
      "duration 1895\n",
      "distance 1567\n",
      "show_to_affiliates True\n",
      "actual True\n",
      "depart_date 2024-05-25\n",
      "origin BLL\n",
      "destination ROM\n",
      "gate \n",
      "return_date 2024-05-28\n",
      "found_at 2024-05-04T06:42:50\n",
      "trip_class 0\n",
      "value 240\n",
      "number_of_changes 1\n",
      "duration 2820\n",
      "distance 1567\n",
      "show_to_affiliates True\n",
      "actual True\n",
      "depart_date 2024-12-29\n",
      "origin BLL\n",
      "destination ROM\n",
      "gate \n",
      "return_date 2025-01-06\n",
      "found_at 2024-05-05T18:08:30\n",
      "trip_class 0\n",
      "value 248\n",
      "number_of_changes 1\n",
      "duration 2205\n",
      "distance 1567\n",
      "show_to_affiliates True\n",
      "actual True\n"
     ]
    }
   ],
   "source": [
    "for labels in flight_labels:\n",
    "    for key, value in labels.items():\n",
    "        print(key,value)"
   ]
  },
  {
   "cell_type": "code",
   "execution_count": 62,
   "id": "aba11b62-f87a-4207-8952-5e5f4fedb11d",
   "metadata": {},
   "outputs": [],
   "source": [
    "import pandas as pd"
   ]
  },
  {
   "cell_type": "code",
   "execution_count": 63,
   "id": "764a0bb4-5019-4fa7-a12b-829964da8231",
   "metadata": {},
   "outputs": [],
   "source": [
    "lst = []\n",
    "for values in flight_labels:\n",
    "    lst.append(pd.DataFrame.from_dict(values, orient='index').transpose())"
   ]
  },
  {
   "cell_type": "code",
   "execution_count": 64,
   "id": "583a6a35-4c23-44f0-a538-1e28a240c3fe",
   "metadata": {},
   "outputs": [],
   "source": [
    "df = pd.concat(lst).reset_index()"
   ]
  },
  {
   "cell_type": "code",
   "execution_count": 65,
   "id": "4009bd77-ac1b-446d-8022-5da159d063f0",
   "metadata": {},
   "outputs": [
    {
     "data": {
      "text/html": [
       "<div>\n",
       "<style scoped>\n",
       "    .dataframe tbody tr th:only-of-type {\n",
       "        vertical-align: middle;\n",
       "    }\n",
       "\n",
       "    .dataframe tbody tr th {\n",
       "        vertical-align: top;\n",
       "    }\n",
       "\n",
       "    .dataframe thead th {\n",
       "        text-align: right;\n",
       "    }\n",
       "</style>\n",
       "<table border=\"1\" class=\"dataframe\">\n",
       "  <thead>\n",
       "    <tr style=\"text-align: right;\">\n",
       "      <th></th>\n",
       "      <th>index</th>\n",
       "      <th>depart_date</th>\n",
       "      <th>origin</th>\n",
       "      <th>destination</th>\n",
       "      <th>gate</th>\n",
       "      <th>return_date</th>\n",
       "      <th>found_at</th>\n",
       "      <th>trip_class</th>\n",
       "      <th>value</th>\n",
       "      <th>number_of_changes</th>\n",
       "      <th>duration</th>\n",
       "      <th>distance</th>\n",
       "      <th>show_to_affiliates</th>\n",
       "      <th>actual</th>\n",
       "    </tr>\n",
       "  </thead>\n",
       "  <tbody>\n",
       "    <tr>\n",
       "      <th>0</th>\n",
       "      <td>0</td>\n",
       "      <td>2025-04-01</td>\n",
       "      <td>BLL</td>\n",
       "      <td>ROM</td>\n",
       "      <td></td>\n",
       "      <td>2025-04-14</td>\n",
       "      <td>2024-05-05T19:29:13</td>\n",
       "      <td>0</td>\n",
       "      <td>237</td>\n",
       "      <td>1</td>\n",
       "      <td>1895</td>\n",
       "      <td>1567</td>\n",
       "      <td>True</td>\n",
       "      <td>True</td>\n",
       "    </tr>\n",
       "    <tr>\n",
       "      <th>1</th>\n",
       "      <td>0</td>\n",
       "      <td>2024-05-25</td>\n",
       "      <td>BLL</td>\n",
       "      <td>ROM</td>\n",
       "      <td></td>\n",
       "      <td>2024-05-28</td>\n",
       "      <td>2024-05-04T06:42:50</td>\n",
       "      <td>0</td>\n",
       "      <td>240</td>\n",
       "      <td>1</td>\n",
       "      <td>2820</td>\n",
       "      <td>1567</td>\n",
       "      <td>True</td>\n",
       "      <td>True</td>\n",
       "    </tr>\n",
       "    <tr>\n",
       "      <th>2</th>\n",
       "      <td>0</td>\n",
       "      <td>2024-12-29</td>\n",
       "      <td>BLL</td>\n",
       "      <td>ROM</td>\n",
       "      <td></td>\n",
       "      <td>2025-01-06</td>\n",
       "      <td>2024-05-05T18:08:30</td>\n",
       "      <td>0</td>\n",
       "      <td>248</td>\n",
       "      <td>1</td>\n",
       "      <td>2205</td>\n",
       "      <td>1567</td>\n",
       "      <td>True</td>\n",
       "      <td>True</td>\n",
       "    </tr>\n",
       "  </tbody>\n",
       "</table>\n",
       "</div>"
      ],
      "text/plain": [
       "   index depart_date origin destination gate return_date             found_at  \\\n",
       "0      0  2025-04-01    BLL         ROM       2025-04-14  2024-05-05T19:29:13   \n",
       "1      0  2024-05-25    BLL         ROM       2024-05-28  2024-05-04T06:42:50   \n",
       "2      0  2024-12-29    BLL         ROM       2025-01-06  2024-05-05T18:08:30   \n",
       "\n",
       "  trip_class value number_of_changes duration distance show_to_affiliates  \\\n",
       "0          0   237                 1     1895     1567               True   \n",
       "1          0   240                 1     2820     1567               True   \n",
       "2          0   248                 1     2205     1567               True   \n",
       "\n",
       "  actual  \n",
       "0   True  \n",
       "1   True  \n",
       "2   True  "
      ]
     },
     "execution_count": 65,
     "metadata": {},
     "output_type": "execute_result"
    }
   ],
   "source": [
    "df"
   ]
  },
  {
   "cell_type": "code",
   "execution_count": 45,
   "id": "5660eb8c-9514-4aa2-812d-76355c308f45",
   "metadata": {},
   "outputs": [],
   "source": [
    "# Assuming your DataFrame is named flight_data\n",
    "# Replace 'flight_data.csv' with the desired file name\n",
    "df.to_csv('flight_data_BLL_FCO.csv', index=False)"
   ]
  },
  {
   "cell_type": "code",
   "execution_count": 76,
   "id": "2b7bd6cf-1e59-41c4-89f2-c892c1505a3a",
   "metadata": {},
   "outputs": [
    {
     "name": "stdout",
     "output_type": "stream",
     "text": [
      "  depart_date origin destination gate return_date             found_at  \\\n",
      "0  2024-10-01    BLL         ROM                   2024-05-04T00:04:06   \n",
      "1  2024-08-14    BLL         ROM                   2024-05-06T01:36:05   \n",
      "2  2024-07-31    BLL         ROM                   2024-05-04T22:09:22   \n",
      "\n",
      "   trip_class  value  number_of_changes  duration  distance  \\\n",
      "0           0     85                  1      1075      1567   \n",
      "1           0     85                  1      1075      1567   \n",
      "2           0     88                  1       935      1567   \n",
      "\n",
      "   show_to_affiliates  actual  \n",
      "0                True    True  \n",
      "1                True    True  \n",
      "2                True    True  \n"
     ]
    }
   ],
   "source": [
    "def extract_flight_data(origin, destination, period_type='year', one_way='true', trip_class='0', currency='EUR', limit=3):\n",
    "    url = \"https://travelpayouts-travelpayouts-flight-data-v1.p.rapidapi.com/v2/prices/latest\"\n",
    "    querystring = {\n",
    "        \"destination\": destination,\n",
    "        \"origin\": origin,\n",
    "        \"period_type\": period_type,\n",
    "        \"one_way\": one_way,\n",
    "        \"trip_class\": trip_class,\n",
    "        \"currency\": currency,\n",
    "        \"limit\": limit\n",
    "    }\n",
    "\n",
    "    try:\n",
    "        response = requests.get(url, headers=headers, params=querystring)\n",
    "        response.raise_for_status()  # Raise an exception for bad response status\n",
    "        flight_data = response.json()  # Convert JSON response to Python dictionary\n",
    "        # Convert the flight data to DataFrame\n",
    "        df = pd.DataFrame(flight_data['data'])\n",
    "        return df\n",
    "    except requests.exceptions.RequestException as e:\n",
    "        print(\"Error fetching data:\", e)\n",
    "        return None\n",
    "\n",
    "# Example usage:\n",
    "flight_df = extract_flight_data(origin=\"BLL\", destination=\"FCO\")\n",
    "print(flight_df.head())  # Display first few rows of the DataFrame\n"
   ]
  },
  {
   "cell_type": "code",
   "execution_count": 50,
   "id": "12ec6cd1-82e8-4ca0-8d2c-fbf707a00a11",
   "metadata": {},
   "outputs": [
    {
     "name": "stdout",
     "output_type": "stream",
     "text": [
      "  depart_date origin destination gate return_date             found_at  \\\n",
      "0  2024-06-05    BLL         NYC       2024-06-12  2024-05-05T19:47:53   \n",
      "1  2024-06-06    BLL         NYC       2024-06-12  2024-05-04T21:18:42   \n",
      "2  2024-11-03    BLL         NYC       2024-11-17  2024-05-04T11:59:21   \n",
      "3  2024-06-06    BLL         NYC       2024-06-13  2024-05-04T13:56:59   \n",
      "4  2024-06-21    BLL         NYC       2024-06-24  2024-05-04T05:31:49   \n",
      "\n",
      "   trip_class  value  number_of_changes  duration  distance  \\\n",
      "0           0    365                  1      2160      5979   \n",
      "1           0    365                  1      2160      5979   \n",
      "2           0    366                  1      1700      5979   \n",
      "3           0    366                  1      2135      5979   \n",
      "4           0    366                  1      1870      5979   \n",
      "\n",
      "   show_to_affiliates  actual  \n",
      "0                True    True  \n",
      "1                True    True  \n",
      "2                True    True  \n",
      "3                True    True  \n",
      "4                True    True  \n"
     ]
    }
   ],
   "source": [
    "flight_df = extract_flight_data(origin=\"BLL\", destination=\"JFK\", df=flight_df)\n",
    "print(flight_df.head())"
   ]
  },
  {
   "cell_type": "code",
   "execution_count": 51,
   "id": "61116426-a073-4f91-8c04-a40ca64f2d56",
   "metadata": {},
   "outputs": [
    {
     "name": "stdout",
     "output_type": "stream",
     "text": [
      "  depart_date origin destination gate return_date             found_at  \\\n",
      "0  2024-06-05    BLL         NYC       2024-06-12  2024-05-05T19:47:53   \n",
      "1  2024-06-06    BLL         NYC       2024-06-12  2024-05-04T21:18:42   \n",
      "2  2024-11-03    BLL         NYC       2024-11-17  2024-05-04T11:59:21   \n",
      "3  2024-06-06    BLL         NYC       2024-06-13  2024-05-04T13:56:59   \n",
      "4  2024-06-21    BLL         NYC       2024-06-24  2024-05-04T05:31:49   \n",
      "\n",
      "   trip_class  value  number_of_changes  duration  distance  \\\n",
      "0           0    365                  1      2160      5979   \n",
      "1           0    365                  1      2160      5979   \n",
      "2           0    366                  1      1700      5979   \n",
      "3           0    366                  1      2135      5979   \n",
      "4           0    366                  1      1870      5979   \n",
      "\n",
      "   show_to_affiliates  actual  \n",
      "0                True    True  \n",
      "1                True    True  \n",
      "2                True    True  \n",
      "3                True    True  \n",
      "4                True    True  \n"
     ]
    }
   ],
   "source": [
    "print(flight_df)"
   ]
  },
  {
   "cell_type": "code",
   "execution_count": null,
   "id": "fcce99b3-6a36-4f19-a9ba-80379da1f36c",
   "metadata": {},
   "outputs": [],
   "source": []
  }
 ],
 "metadata": {
  "kernelspec": {
   "display_name": "Python 3 (ipykernel)",
   "language": "python",
   "name": "python3"
  },
  "language_info": {
   "codemirror_mode": {
    "name": "ipython",
    "version": 3
   },
   "file_extension": ".py",
   "mimetype": "text/x-python",
   "name": "python",
   "nbconvert_exporter": "python",
   "pygments_lexer": "ipython3",
   "version": "3.11.9"
  }
 },
 "nbformat": 4,
 "nbformat_minor": 5
}
