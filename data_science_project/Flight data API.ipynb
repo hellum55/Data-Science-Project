{
 "cells": [
  {
   "cell_type": "code",
   "execution_count": 3,
   "id": "6afb9574-a396-4c26-a431-c1dceb9499b4",
   "metadata": {},
   "outputs": [],
   "source": [
    "import requests # library for making HTTP requests\n",
    "import pandas as pd # library for data analysis\n",
    "import datetime as dt # library for handling date and time objects"
   ]
  },
  {
   "cell_type": "code",
   "execution_count": 4,
   "id": "c74f6214-ca98-4d71-aeb6-e638b1591f42",
   "metadata": {},
   "outputs": [
    {
     "ename": "FileNotFoundError",
     "evalue": "[Errno 2] No such file or directory: '/Users/Christian/Documents/Cand. merc/Data-Science-Project/Data-Science-Project/data_science_project/.env_flight'",
     "output_type": "error",
     "traceback": [
      "\u001b[0;31m---------------------------------------------------------------------------\u001b[0m",
      "\u001b[0;31mFileNotFoundError\u001b[0m                         Traceback (most recent call last)",
      "Cell \u001b[0;32mIn[4], line 3\u001b[0m\n\u001b[1;32m      1\u001b[0m my_dict \u001b[38;5;241m=\u001b[39m {}\n\u001b[0;32m----> 3\u001b[0m \u001b[38;5;28;01mwith\u001b[39;00m \u001b[38;5;28;43mopen\u001b[39;49m\u001b[43m(\u001b[49m\u001b[38;5;124;43mr\u001b[39;49m\u001b[38;5;124;43m\"\u001b[39;49m\u001b[38;5;124;43m/Users/Christian/Documents/Cand. merc/Data-Science-Project/Data-Science-Project/data_science_project/.env_flight\u001b[39;49m\u001b[38;5;124;43m\"\u001b[39;49m\u001b[43m,\u001b[49m\u001b[43m \u001b[49m\u001b[38;5;124;43m\"\u001b[39;49m\u001b[38;5;124;43mr\u001b[39;49m\u001b[38;5;124;43m\"\u001b[39;49m\u001b[43m)\u001b[49m \u001b[38;5;28;01mas\u001b[39;00m f:\n\u001b[1;32m      4\u001b[0m     \u001b[38;5;28;01mfor\u001b[39;00m line \u001b[38;5;129;01min\u001b[39;00m f:\n\u001b[1;32m      5\u001b[0m         key, val \u001b[38;5;241m=\u001b[39m line\u001b[38;5;241m.\u001b[39msplit(\u001b[38;5;124m'\u001b[39m\u001b[38;5;124m=\u001b[39m\u001b[38;5;124m'\u001b[39m)\n",
      "File \u001b[0;32m~/Library/Caches/pypoetry/virtualenvs/data-science-project-PFmYB0_u-py3.12/lib/python3.12/site-packages/IPython/core/interactiveshell.py:324\u001b[0m, in \u001b[0;36m_modified_open\u001b[0;34m(file, *args, **kwargs)\u001b[0m\n\u001b[1;32m    317\u001b[0m \u001b[38;5;28;01mif\u001b[39;00m file \u001b[38;5;129;01min\u001b[39;00m {\u001b[38;5;241m0\u001b[39m, \u001b[38;5;241m1\u001b[39m, \u001b[38;5;241m2\u001b[39m}:\n\u001b[1;32m    318\u001b[0m     \u001b[38;5;28;01mraise\u001b[39;00m \u001b[38;5;167;01mValueError\u001b[39;00m(\n\u001b[1;32m    319\u001b[0m         \u001b[38;5;124mf\u001b[39m\u001b[38;5;124m\"\u001b[39m\u001b[38;5;124mIPython won\u001b[39m\u001b[38;5;124m'\u001b[39m\u001b[38;5;124mt let you open fd=\u001b[39m\u001b[38;5;132;01m{\u001b[39;00mfile\u001b[38;5;132;01m}\u001b[39;00m\u001b[38;5;124m by default \u001b[39m\u001b[38;5;124m\"\u001b[39m\n\u001b[1;32m    320\u001b[0m         \u001b[38;5;124m\"\u001b[39m\u001b[38;5;124mas it is likely to crash IPython. If you know what you are doing, \u001b[39m\u001b[38;5;124m\"\u001b[39m\n\u001b[1;32m    321\u001b[0m         \u001b[38;5;124m\"\u001b[39m\u001b[38;5;124myou can use builtins\u001b[39m\u001b[38;5;124m'\u001b[39m\u001b[38;5;124m open.\u001b[39m\u001b[38;5;124m\"\u001b[39m\n\u001b[1;32m    322\u001b[0m     )\n\u001b[0;32m--> 324\u001b[0m \u001b[38;5;28;01mreturn\u001b[39;00m \u001b[43mio_open\u001b[49m\u001b[43m(\u001b[49m\u001b[43mfile\u001b[49m\u001b[43m,\u001b[49m\u001b[43m \u001b[49m\u001b[38;5;241;43m*\u001b[39;49m\u001b[43margs\u001b[49m\u001b[43m,\u001b[49m\u001b[43m \u001b[49m\u001b[38;5;241;43m*\u001b[39;49m\u001b[38;5;241;43m*\u001b[39;49m\u001b[43mkwargs\u001b[49m\u001b[43m)\u001b[49m\n",
      "\u001b[0;31mFileNotFoundError\u001b[0m: [Errno 2] No such file or directory: '/Users/Christian/Documents/Cand. merc/Data-Science-Project/Data-Science-Project/data_science_project/.env_flight'"
     ]
    }
   ],
   "source": [
    "my_dict = {}\n",
    "\n",
    "with open(r\"/Users/Christian/Documents/Cand. merc/Data-Science-Project/Data-Science-Project/data_science_project/.env_flight\", \"r\") as f:\n",
    "    for line in f:\n",
    "        key, val = line.split('=')\n",
    "        my_dict[key.strip()] = val.strip()"
   ]
  },
  {
   "cell_type": "code",
   "execution_count": 19,
   "id": "a88c0654-259c-483f-aaee-1c98f688ae64",
   "metadata": {},
   "outputs": [
    {
     "name": "stdout",
     "output_type": "stream",
     "text": [
      "{'X-Access-Token': 'c33be7fb8b49d500e631d7143c8ef4bf', 'X-RapidAPI-Key': 'c795ba9581msh07d0178516af21bp1d788bjsnd4de235dbca6', 'X-RapidAPI-Host': 'travelpayouts-travelpayouts-flight-data-v1.p.rapidapi.com'}\n"
     ]
    }
   ],
   "source": [
    "headers = my_dict\n",
    "print(headers)"
   ]
  },
  {
   "cell_type": "code",
   "execution_count": 57,
   "id": "1209eec0-0f31-4277-9f2f-2856b5da1d7c",
   "metadata": {
    "scrolled": true
   },
   "outputs": [
    {
     "name": "stdout",
     "output_type": "stream",
     "text": [
      "{'currency': 'eur', 'error': '', 'data': [{'depart_date': '2025-04-01', 'origin': 'BLL', 'destination': 'ROM', 'gate': '', 'return_date': '2025-04-14', 'found_at': '2024-05-05T19:29:13', 'trip_class': 0, 'value': 237, 'number_of_changes': 1, 'duration': 1895, 'distance': 1567, 'show_to_affiliates': True, 'actual': True}, {'depart_date': '2024-05-25', 'origin': 'BLL', 'destination': 'ROM', 'gate': '', 'return_date': '2024-05-28', 'found_at': '2024-05-04T06:42:50', 'trip_class': 0, 'value': 240, 'number_of_changes': 1, 'duration': 2820, 'distance': 1567, 'show_to_affiliates': True, 'actual': True}, {'depart_date': '2024-12-29', 'origin': 'BLL', 'destination': 'ROM', 'gate': '', 'return_date': '2025-01-06', 'found_at': '2024-05-05T18:08:30', 'trip_class': 0, 'value': 248, 'number_of_changes': 1, 'duration': 2205, 'distance': 1567, 'show_to_affiliates': True, 'actual': True}], 'success': True}\n"
     ]
    }
   ],
   "source": [
    "url = \"https://travelpayouts-travelpayouts-flight-data-v1.p.rapidapi.com/v2/prices/latest\"\n",
    "\n",
    "querystring = {\"destination\":\"FCO\",\"origin\":\"BLL\",\"period_type\":\"year\",\"one_way\":\" back-to-back\",\"trip_class\":\"0\",\"currency\":\"EUR\",\"page\":\"1\",\"sorting\":\"price\",\"limit\":\"3\"}\n",
    "\n",
    "r = requests.get(url, headers=headers, params=querystring) # Issues a HTTP GET request\n",
    "r.url # `requests` help us encode the URL in the correct format\n",
    "\n",
    "print(r.json())"
   ]
  },
  {
   "cell_type": "code",
   "execution_count": 58,
   "id": "1d941721-49ac-456b-a738-a06402e7727a",
   "metadata": {},
   "outputs": [
    {
     "data": {
      "text/plain": [
       "200"
      ]
     },
     "execution_count": 58,
     "metadata": {},
     "output_type": "execute_result"
    }
   ],
   "source": [
    "r.status_code # 200 means success"
   ]
  },
  {
   "cell_type": "code",
   "execution_count": 59,
   "id": "7d5d6e42-71ad-44a7-9312-c557be88f2e8",
   "metadata": {
    "scrolled": true
   },
   "outputs": [
    {
     "data": {
      "text/plain": [
       "{'currency': 'eur',\n",
       " 'error': '',\n",
       " 'data': [{'depart_date': '2025-04-01',\n",
       "   'origin': 'BLL',\n",
       "   'destination': 'ROM',\n",
       "   'gate': '',\n",
       "   'return_date': '2025-04-14',\n",
       "   'found_at': '2024-05-05T19:29:13',\n",
       "   'trip_class': 0,\n",
       "   'value': 237,\n",
       "   'number_of_changes': 1,\n",
       "   'duration': 1895,\n",
       "   'distance': 1567,\n",
       "   'show_to_affiliates': True,\n",
       "   'actual': True},\n",
       "  {'depart_date': '2024-05-25',\n",
       "   'origin': 'BLL',\n",
       "   'destination': 'ROM',\n",
       "   'gate': '',\n",
       "   'return_date': '2024-05-28',\n",
       "   'found_at': '2024-05-04T06:42:50',\n",
       "   'trip_class': 0,\n",
       "   'value': 240,\n",
       "   'number_of_changes': 1,\n",
       "   'duration': 2820,\n",
       "   'distance': 1567,\n",
       "   'show_to_affiliates': True,\n",
       "   'actual': True},\n",
       "  {'depart_date': '2024-12-29',\n",
       "   'origin': 'BLL',\n",
       "   'destination': 'ROM',\n",
       "   'gate': '',\n",
       "   'return_date': '2025-01-06',\n",
       "   'found_at': '2024-05-05T18:08:30',\n",
       "   'trip_class': 0,\n",
       "   'value': 248,\n",
       "   'number_of_changes': 1,\n",
       "   'duration': 2205,\n",
       "   'distance': 1567,\n",
       "   'show_to_affiliates': True,\n",
       "   'actual': True}],\n",
       " 'success': True}"
      ]
     },
     "execution_count": 59,
     "metadata": {},
     "output_type": "execute_result"
    }
   ],
   "source": [
    "flight = r.json()\n",
    "flight"
   ]
  },
  {
   "cell_type": "code",
   "execution_count": 60,
   "id": "2dd4bfd8-7842-4050-954b-b3d313af98cb",
   "metadata": {},
   "outputs": [
    {
     "name": "stdout",
     "output_type": "stream",
     "text": [
      "[{'depart_date': '2025-04-01', 'origin': 'BLL', 'destination': 'ROM', 'gate': '', 'return_date': '2025-04-14', 'found_at': '2024-05-05T19:29:13', 'trip_class': 0, 'value': 237, 'number_of_changes': 1, 'duration': 1895, 'distance': 1567, 'show_to_affiliates': True, 'actual': True}, {'depart_date': '2024-05-25', 'origin': 'BLL', 'destination': 'ROM', 'gate': '', 'return_date': '2024-05-28', 'found_at': '2024-05-04T06:42:50', 'trip_class': 0, 'value': 240, 'number_of_changes': 1, 'duration': 2820, 'distance': 1567, 'show_to_affiliates': True, 'actual': True}, {'depart_date': '2024-12-29', 'origin': 'BLL', 'destination': 'ROM', 'gate': '', 'return_date': '2025-01-06', 'found_at': '2024-05-05T18:08:30', 'trip_class': 0, 'value': 248, 'number_of_changes': 1, 'duration': 2205, 'distance': 1567, 'show_to_affiliates': True, 'actual': True}]\n"
     ]
    }
   ],
   "source": [
    "flight_labels = flight['data']\n",
    "print(flight_labels)"
   ]
  },
  {
   "cell_type": "code",
   "execution_count": 61,
   "id": "acfdb136-6cf9-4c6d-a99a-4319d2048f86",
   "metadata": {
    "scrolled": true
   },
   "outputs": [
    {
     "name": "stdout",
     "output_type": "stream",
     "text": [
      "depart_date 2025-04-01\n",
      "origin BLL\n",
      "destination ROM\n",
      "gate \n",
      "return_date 2025-04-14\n",
      "found_at 2024-05-05T19:29:13\n",
      "trip_class 0\n",
      "value 237\n",
      "number_of_changes 1\n",
      "duration 1895\n",
      "distance 1567\n",
      "show_to_affiliates True\n",
      "actual True\n",
      "depart_date 2024-05-25\n",
      "origin BLL\n",
      "destination ROM\n",
      "gate \n",
      "return_date 2024-05-28\n",
      "found_at 2024-05-04T06:42:50\n",
      "trip_class 0\n",
      "value 240\n",
      "number_of_changes 1\n",
      "duration 2820\n",
      "distance 1567\n",
      "show_to_affiliates True\n",
      "actual True\n",
      "depart_date 2024-12-29\n",
      "origin BLL\n",
      "destination ROM\n",
      "gate \n",
      "return_date 2025-01-06\n",
      "found_at 2024-05-05T18:08:30\n",
      "trip_class 0\n",
      "value 248\n",
      "number_of_changes 1\n",
      "duration 2205\n",
      "distance 1567\n",
      "show_to_affiliates True\n",
      "actual True\n"
     ]
    }
   ],
   "source": [
    "for labels in flight_labels:\n",
    "    for key, value in labels.items():\n",
    "        print(key,value)"
   ]
  },
  {
   "cell_type": "code",
   "execution_count": 63,
   "id": "764a0bb4-5019-4fa7-a12b-829964da8231",
   "metadata": {},
   "outputs": [],
   "source": [
    "lst = []\n",
    "for values in flight_labels:\n",
    "    lst.append(pd.DataFrame.from_dict(values, orient='index').transpose())"
   ]
  },
  {
   "cell_type": "code",
   "execution_count": 64,
   "id": "583a6a35-4c23-44f0-a538-1e28a240c3fe",
   "metadata": {},
   "outputs": [],
   "source": [
    "df = pd.concat(lst).reset_index()\n",
    "df"
   ]
  },
  {
   "cell_type": "code",
   "execution_count": 45,
   "id": "5660eb8c-9514-4aa2-812d-76355c308f45",
   "metadata": {},
   "outputs": [],
   "source": [
    "# Assuming your DataFrame is named flight_data\n",
    "# Replace 'flight_data.csv' with the desired file name\n",
    "df.to_csv('flight_data_BLL_FCO.csv', index=False)"
   ]
  },
  {
   "cell_type": "code",
   "execution_count": 1,
   "id": "2b7bd6cf-1e59-41c4-89f2-c892c1505a3a",
   "metadata": {},
   "outputs": [],
   "source": [
    "def extract_flight_data(origin, destination, period_type='year', one_way='true', trip_class='0', currency='EUR', limit=500):\n",
    "    url = \"https://travelpayouts-travelpayouts-flight-data-v1.p.rapidapi.com/v2/prices/latest\"\n",
    "    querystring = {\n",
    "        \"destination\": destination,\n",
    "        \"origin\": origin,\n",
    "        \"period_type\": period_type,\n",
    "        \"one_way\": one_way,\n",
    "        \"trip_class\": trip_class,\n",
    "        \"currency\": currency,\n",
    "        \"limit\": limit\n",
    "    }\n",
    "\n",
    "    try:\n",
    "        response = requests.get(url, headers=headers, params=querystring)\n",
    "        response.raise_for_status()  # Raise an exception for bad response status\n",
    "        flight_data = response.json()  # Convert JSON response to Python dictionary\n",
    "        # Convert the flight data to DataFrame\n",
    "        df = pd.DataFrame(flight_data['data'])\n",
    "        return df\n",
    "    except requests.exceptions.RequestException as e:\n",
    "        print(\"Error fetching data:\", e)\n",
    "        return None"
   ]
  },
  {
   "cell_type": "code",
   "execution_count": 2,
   "id": "af970320-0875-4d97-b364-349716152bc3",
   "metadata": {},
   "outputs": [
    {
     "ename": "NameError",
     "evalue": "name 'requests' is not defined",
     "output_type": "error",
     "traceback": [
      "\u001b[0;31m---------------------------------------------------------------------------\u001b[0m",
      "\u001b[0;31mNameError\u001b[0m                                 Traceback (most recent call last)",
      "Cell \u001b[0;32mIn[1], line 14\u001b[0m, in \u001b[0;36mextract_flight_data\u001b[0;34m(origin, destination, period_type, one_way, trip_class, currency, limit)\u001b[0m\n\u001b[1;32m     13\u001b[0m \u001b[38;5;28;01mtry\u001b[39;00m:\n\u001b[0;32m---> 14\u001b[0m     response \u001b[38;5;241m=\u001b[39m \u001b[43mrequests\u001b[49m\u001b[38;5;241m.\u001b[39mget(url, headers\u001b[38;5;241m=\u001b[39mheaders, params\u001b[38;5;241m=\u001b[39mquerystring)\n\u001b[1;32m     15\u001b[0m     response\u001b[38;5;241m.\u001b[39mraise_for_status()  \u001b[38;5;66;03m# Raise an exception for bad response status\u001b[39;00m\n",
      "\u001b[0;31mNameError\u001b[0m: name 'requests' is not defined",
      "\nDuring handling of the above exception, another exception occurred:\n",
      "\u001b[0;31mNameError\u001b[0m                                 Traceback (most recent call last)",
      "Cell \u001b[0;32mIn[2], line 2\u001b[0m\n\u001b[1;32m      1\u001b[0m \u001b[38;5;66;03m# Example usage:\u001b[39;00m\n\u001b[0;32m----> 2\u001b[0m flight_df \u001b[38;5;241m=\u001b[39m \u001b[43mextract_flight_data\u001b[49m\u001b[43m(\u001b[49m\u001b[43morigin\u001b[49m\u001b[38;5;241;43m=\u001b[39;49m\u001b[38;5;124;43m\"\u001b[39;49m\u001b[38;5;124;43mBLL\u001b[39;49m\u001b[38;5;124;43m\"\u001b[39;49m\u001b[43m,\u001b[49m\u001b[43m \u001b[49m\u001b[43mdestination\u001b[49m\u001b[38;5;241;43m=\u001b[39;49m\u001b[38;5;124;43m\"\u001b[39;49m\u001b[38;5;124;43mFCO\u001b[39;49m\u001b[38;5;124;43m\"\u001b[39;49m\u001b[43m)\u001b[49m\n\u001b[1;32m      3\u001b[0m \u001b[38;5;28mprint\u001b[39m(flight_df\u001b[38;5;241m.\u001b[39mhead())  \u001b[38;5;66;03m# Display first few rows of the DataFrame\u001b[39;00m\n",
      "Cell \u001b[0;32mIn[1], line 20\u001b[0m, in \u001b[0;36mextract_flight_data\u001b[0;34m(origin, destination, period_type, one_way, trip_class, currency, limit)\u001b[0m\n\u001b[1;32m     18\u001b[0m     df \u001b[38;5;241m=\u001b[39m pd\u001b[38;5;241m.\u001b[39mDataFrame(flight_data[\u001b[38;5;124m'\u001b[39m\u001b[38;5;124mdata\u001b[39m\u001b[38;5;124m'\u001b[39m])\n\u001b[1;32m     19\u001b[0m     \u001b[38;5;28;01mreturn\u001b[39;00m df\n\u001b[0;32m---> 20\u001b[0m \u001b[38;5;28;01mexcept\u001b[39;00m \u001b[43mrequests\u001b[49m\u001b[38;5;241m.\u001b[39mexceptions\u001b[38;5;241m.\u001b[39mRequestException \u001b[38;5;28;01mas\u001b[39;00m e:\n\u001b[1;32m     21\u001b[0m     \u001b[38;5;28mprint\u001b[39m(\u001b[38;5;124m\"\u001b[39m\u001b[38;5;124mError fetching data:\u001b[39m\u001b[38;5;124m\"\u001b[39m, e)\n\u001b[1;32m     22\u001b[0m     \u001b[38;5;28;01mreturn\u001b[39;00m \u001b[38;5;28;01mNone\u001b[39;00m\n",
      "\u001b[0;31mNameError\u001b[0m: name 'requests' is not defined"
     ]
    }
   ],
   "source": [
    "# Example usage:\n",
    "flight_df = extract_flight_data(origin=\"BLL\", destination=\"FCO\")\n",
    "print(flight_df.head())  # Display first few rows of the DataFrame"
   ]
  },
  {
   "cell_type": "code",
   "execution_count": 50,
   "id": "12ec6cd1-82e8-4ca0-8d2c-fbf707a00a11",
   "metadata": {},
   "outputs": [
    {
     "name": "stdout",
     "output_type": "stream",
     "text": [
      "  depart_date origin destination gate return_date             found_at  \\\n",
      "0  2024-06-05    BLL         NYC       2024-06-12  2024-05-05T19:47:53   \n",
      "1  2024-06-06    BLL         NYC       2024-06-12  2024-05-04T21:18:42   \n",
      "2  2024-11-03    BLL         NYC       2024-11-17  2024-05-04T11:59:21   \n",
      "3  2024-06-06    BLL         NYC       2024-06-13  2024-05-04T13:56:59   \n",
      "4  2024-06-21    BLL         NYC       2024-06-24  2024-05-04T05:31:49   \n",
      "\n",
      "   trip_class  value  number_of_changes  duration  distance  \\\n",
      "0           0    365                  1      2160      5979   \n",
      "1           0    365                  1      2160      5979   \n",
      "2           0    366                  1      1700      5979   \n",
      "3           0    366                  1      2135      5979   \n",
      "4           0    366                  1      1870      5979   \n",
      "\n",
      "   show_to_affiliates  actual  \n",
      "0                True    True  \n",
      "1                True    True  \n",
      "2                True    True  \n",
      "3                True    True  \n",
      "4                True    True  \n"
     ]
    }
   ],
   "source": [
    "flight_df = extract_flight_data(origin=\"BLL\", destination=\"JFK\", df=flight_df)\n",
    "print(flight_df.head())"
   ]
  },
  {
   "cell_type": "code",
   "execution_count": 51,
   "id": "61116426-a073-4f91-8c04-a40ca64f2d56",
   "metadata": {},
   "outputs": [
    {
     "name": "stdout",
     "output_type": "stream",
     "text": [
      "  depart_date origin destination gate return_date             found_at  \\\n",
      "0  2024-06-05    BLL         NYC       2024-06-12  2024-05-05T19:47:53   \n",
      "1  2024-06-06    BLL         NYC       2024-06-12  2024-05-04T21:18:42   \n",
      "2  2024-11-03    BLL         NYC       2024-11-17  2024-05-04T11:59:21   \n",
      "3  2024-06-06    BLL         NYC       2024-06-13  2024-05-04T13:56:59   \n",
      "4  2024-06-21    BLL         NYC       2024-06-24  2024-05-04T05:31:49   \n",
      "\n",
      "   trip_class  value  number_of_changes  duration  distance  \\\n",
      "0           0    365                  1      2160      5979   \n",
      "1           0    365                  1      2160      5979   \n",
      "2           0    366                  1      1700      5979   \n",
      "3           0    366                  1      2135      5979   \n",
      "4           0    366                  1      1870      5979   \n",
      "\n",
      "   show_to_affiliates  actual  \n",
      "0                True    True  \n",
      "1                True    True  \n",
      "2                True    True  \n",
      "3                True    True  \n",
      "4                True    True  \n"
     ]
    }
   ],
   "source": [
    "print(flight_df)"
   ]
  },
  {
   "cell_type": "code",
   "execution_count": null,
   "id": "fcce99b3-6a36-4f19-a9ba-80379da1f36c",
   "metadata": {},
   "outputs": [],
   "source": []
  }
 ],
 "metadata": {
  "kernelspec": {
   "display_name": "Python 3 (ipykernel)",
   "language": "python",
   "name": "python3"
  },
  "language_info": {
   "codemirror_mode": {
    "name": "ipython",
    "version": 3
   },
   "file_extension": ".py",
   "mimetype": "text/x-python",
   "name": "python",
   "nbconvert_exporter": "python",
   "pygments_lexer": "ipython3",
   "version": "3.12.2"
  }
 },
 "nbformat": 4,
 "nbformat_minor": 5
}
