{
 "cells": [
  {
   "cell_type": "code",
   "execution_count": null,
   "id": "f6aab674-c069-4276-86db-3338d5c520b5",
   "metadata": {},
   "outputs": [],
   "source": [
    "pip install requests"
   ]
  },
  {
   "cell_type": "code",
   "execution_count": null,
   "id": "6afb9574-a396-4c26-a431-c1dceb9499b4",
   "metadata": {},
   "outputs": [],
   "source": [
    "import requests # library for making HTTP requests\n",
    "import pandas as pd # library for data analysis\n",
    "import datetime as dt # library for handling date and time objects"
   ]
  },
  {
   "cell_type": "code",
   "execution_count": null,
   "id": "c74f6214-ca98-4d71-aeb6-e638b1591f42",
   "metadata": {},
   "outputs": [],
   "source": [
    "my_dict = {}\n",
    "\n",
    "with open(r\"/Users/christianhellum/Cand. Merc./Data-Science-Project/data_science_project/.env\", \"r\") as f:\n",
    "    for line in f:\n",
    "        key, val = line.split('=')\n",
    "        my_dict[key.strip()] = val.strip()"
   ]
  },
  {
   "cell_type": "code",
   "execution_count": null,
   "id": "1209eec0-0f31-4277-9f2f-2856b5da1d7c",
   "metadata": {},
   "outputs": [],
   "source": [
    "import requests\n",
    "\n",
    "url = \"https://travelpayouts-travelpayouts-flight-data-v1.p.rapidapi.com/v2/prices/latest\"\n",
    "\n",
    "querystring = {\"destination\":\"LED\",\"origin\":\"MOW\",\"period_type\":\"year\",\"one_way\":\" \",\"show_to_affiliates\":\"true\",\"trip_class\":\"0\",\"currency\":\"RUB\",\"page\":\"5\",\"sorting\":\"price\",\"limit\":\"200\"}\n",
    "\n",
    "headers = {\n",
    "\t\"X-Access-Token\": \"c33be7fb8b49d500e631d7143c8ef4bf\",\n",
    "\t\"X-RapidAPI-Key\": \"c795ba9581msh07d0178516af21bp1d788bjsnd4de235dbca6\",\n",
    "\t\"X-RapidAPI-Host\": \"travelpayouts-travelpayouts-flight-data-v1.p.rapidapi.com\"\n",
    "}\n",
    "\n",
    "response = requests.get(url, headers=headers, params=querystring)\n",
    "\n",
    "print(response.json())"
   ]
  },
  {
   "cell_type": "code",
   "execution_count": null,
   "id": "a88c0654-259c-483f-aaee-1c98f688ae64",
   "metadata": {},
   "outputs": [],
   "source": []
  },
  {
   "cell_type": "code",
   "execution_count": null,
   "id": "8e8dee40-c016-4694-94b6-35cfec017392",
   "metadata": {},
   "outputs": [],
   "source": []
  }
 ],
 "metadata": {
  "kernelspec": {
   "display_name": "Python 3 (ipykernel)",
   "language": "python",
   "name": "python3"
  },
  "language_info": {
   "codemirror_mode": {
    "name": "ipython",
    "version": 3
   },
   "file_extension": ".py",
   "mimetype": "text/x-python",
   "name": "python",
   "nbconvert_exporter": "python",
   "pygments_lexer": "ipython3",
   "version": "3.11.9"
  }
 },
 "nbformat": 4,
 "nbformat_minor": 5
}
